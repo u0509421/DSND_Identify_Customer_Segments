{
 "cells": [
  {
   "cell_type": "markdown",
   "metadata": {},
   "source": [
    "# Project: Identify Customer Segments\n",
    "\n",
    "In this project, you will apply unsupervised learning techniques to identify segments of the population that form the core customer base for a mail-order sales company in Germany. These segments can then be used to direct marketing campaigns towards audiences that will have the highest expected rate of returns. The data that you will use has been provided by our partners at Bertelsmann Arvato Analytics, and represents a real-life data science task.\n",
    "\n",
    "This notebook will help you complete this task by providing a framework within which you will perform your analysis steps. In each step of the project, you will see some text describing the subtask that you will perform, followed by one or more code cells for you to complete your work. **Feel free to add additional code and markdown cells as you go along so that you can explore everything in precise chunks.** The code cells provided in the base template will outline only the major tasks, and will usually not be enough to cover all of the minor tasks that comprise it.\n",
    "\n",
    "It should be noted that while there will be precise guidelines on how you should handle certain tasks in the project, there will also be places where an exact specification is not provided. **There will be times in the project where you will need to make and justify your own decisions on how to treat the data.** These are places where there may not be only one way to handle the data. In real-life tasks, there may be many valid ways to approach an analysis task. One of the most important things you can do is clearly document your approach so that other scientists can understand the decisions you've made.\n",
    "\n",
    "At the end of most sections, there will be a Markdown cell labeled **Discussion**. In these cells, you will report your findings for the completed section, as well as document the decisions that you made in your approach to each subtask. **Your project will be evaluated not just on the code used to complete the tasks outlined, but also your communication about your observations and conclusions at each stage.**"
   ]
  },
  {
   "cell_type": "code",
   "execution_count": 130,
   "metadata": {},
   "outputs": [],
   "source": [
    "# import libraries here; add more as necessary\n",
    "import numpy as np\n",
    "import pandas as pd\n",
    "import matplotlib.pyplot as plt\n",
    "import seaborn as sns\n",
    "from sklearn.preprocessing import Imputer, StandardScaler\n",
    "from sklearn.decomposition import PCA\n",
    "from sklearn.cluster import KMeans\n",
    "import warnings\n",
    "\n",
    "# magic word for producing visualizations in notebook\n",
    "%matplotlib inline"
   ]
  },
  {
   "cell_type": "markdown",
   "metadata": {},
   "source": [
    "### Step 0: Load the Data\n",
    "\n",
    "There are four files associated with this project (not including this one):\n",
    "\n",
    "- `Udacity_AZDIAS_Subset.csv`: Demographics data for the general population of Germany; 891211 persons (rows) x 85 features (columns).\n",
    "- `Udacity_CUSTOMERS_Subset.csv`: Demographics data for customers of a mail-order company; 191652 persons (rows) x 85 features (columns).\n",
    "- `Data_Dictionary.md`: Detailed information file about the features in the provided datasets.\n",
    "- `AZDIAS_Feature_Summary.csv`: Summary of feature attributes for demographics data; 85 features (rows) x 4 columns\n",
    "\n",
    "Each row of the demographics files represents a single person, but also includes information outside of individuals, including information about their household, building, and neighborhood. You will use this information to cluster the general population into groups with similar demographic properties. Then, you will see how the people in the customers dataset fit into those created clusters. The hope here is that certain clusters are over-represented in the customers data, as compared to the general population; those over-represented clusters will be assumed to be part of the core userbase. This information can then be used for further applications, such as targeting for a marketing campaign.\n",
    "\n",
    "To start off with, load in the demographics data for the general population into a pandas DataFrame, and do the same for the feature attributes summary. Note for all of the `.csv` data files in this project: they're semicolon (`;`) delimited, so you'll need an additional argument in your [`read_csv()`](https://pandas.pydata.org/pandas-docs/stable/generated/pandas.read_csv.html) call to read in the data properly. Also, considering the size of the main dataset, it may take some time for it to load completely.\n",
    "\n",
    "Once the dataset is loaded, it's recommended that you take a little bit of time just browsing the general structure of the dataset and feature summary file. You'll be getting deep into the innards of the cleaning in the first major step of the project, so gaining some general familiarity can help you get your bearings."
   ]
  },
  {
   "cell_type": "code",
   "execution_count": 131,
   "metadata": {},
   "outputs": [],
   "source": [
    "# Load in the general demographics data.\n",
    "azdias = pd.read_csv('Udacity_AZDIAS_Subset.csv', sep=\";\")\n",
    "\n",
    "# Load in the feature summary file.\n",
    "feat_info = pd.read_csv('AZDIAS_Feature_Summary.csv', sep=';')"
   ]
  },
  {
   "cell_type": "code",
   "execution_count": 132,
   "metadata": {},
   "outputs": [
    {
     "name": "stdout",
     "output_type": "stream",
     "text": [
      "<class 'pandas.core.frame.DataFrame'>\n",
      "RangeIndex: 891221 entries, 0 to 891220\n",
      "Data columns (total 85 columns):\n",
      "AGER_TYP                 891221 non-null int64\n",
      "ALTERSKATEGORIE_GROB     891221 non-null int64\n",
      "ANREDE_KZ                891221 non-null int64\n",
      "CJT_GESAMTTYP            886367 non-null float64\n",
      "FINANZ_MINIMALIST        891221 non-null int64\n",
      "FINANZ_SPARER            891221 non-null int64\n",
      "FINANZ_VORSORGER         891221 non-null int64\n",
      "FINANZ_ANLEGER           891221 non-null int64\n",
      "FINANZ_UNAUFFAELLIGER    891221 non-null int64\n",
      "FINANZ_HAUSBAUER         891221 non-null int64\n",
      "FINANZTYP                891221 non-null int64\n",
      "GEBURTSJAHR              891221 non-null int64\n",
      "GFK_URLAUBERTYP          886367 non-null float64\n",
      "GREEN_AVANTGARDE         891221 non-null int64\n",
      "HEALTH_TYP               891221 non-null int64\n",
      "LP_LEBENSPHASE_FEIN      886367 non-null float64\n",
      "LP_LEBENSPHASE_GROB      886367 non-null float64\n",
      "LP_FAMILIE_FEIN          886367 non-null float64\n",
      "LP_FAMILIE_GROB          886367 non-null float64\n",
      "LP_STATUS_FEIN           886367 non-null float64\n",
      "LP_STATUS_GROB           886367 non-null float64\n",
      "NATIONALITAET_KZ         891221 non-null int64\n",
      "PRAEGENDE_JUGENDJAHRE    891221 non-null int64\n",
      "RETOURTYP_BK_S           886367 non-null float64\n",
      "SEMIO_SOZ                891221 non-null int64\n",
      "SEMIO_FAM                891221 non-null int64\n",
      "SEMIO_REL                891221 non-null int64\n",
      "SEMIO_MAT                891221 non-null int64\n",
      "SEMIO_VERT               891221 non-null int64\n",
      "SEMIO_LUST               891221 non-null int64\n",
      "SEMIO_ERL                891221 non-null int64\n",
      "SEMIO_KULT               891221 non-null int64\n",
      "SEMIO_RAT                891221 non-null int64\n",
      "SEMIO_KRIT               891221 non-null int64\n",
      "SEMIO_DOM                891221 non-null int64\n",
      "SEMIO_KAEM               891221 non-null int64\n",
      "SEMIO_PFLICHT            891221 non-null int64\n",
      "SEMIO_TRADV              891221 non-null int64\n",
      "SHOPPER_TYP              891221 non-null int64\n",
      "SOHO_KZ                  817722 non-null float64\n",
      "TITEL_KZ                 817722 non-null float64\n",
      "VERS_TYP                 891221 non-null int64\n",
      "ZABEOTYP                 891221 non-null int64\n",
      "ALTER_HH                 817722 non-null float64\n",
      "ANZ_PERSONEN             817722 non-null float64\n",
      "ANZ_TITEL                817722 non-null float64\n",
      "HH_EINKOMMEN_SCORE       872873 non-null float64\n",
      "KK_KUNDENTYP             306609 non-null float64\n",
      "W_KEIT_KIND_HH           783619 non-null float64\n",
      "WOHNDAUER_2008           817722 non-null float64\n",
      "ANZ_HAUSHALTE_AKTIV      798073 non-null float64\n",
      "ANZ_HH_TITEL             794213 non-null float64\n",
      "GEBAEUDETYP              798073 non-null float64\n",
      "KONSUMNAEHE              817252 non-null float64\n",
      "MIN_GEBAEUDEJAHR         798073 non-null float64\n",
      "OST_WEST_KZ              798073 non-null object\n",
      "WOHNLAGE                 798073 non-null float64\n",
      "CAMEO_DEUG_2015          792242 non-null object\n",
      "CAMEO_DEU_2015           792242 non-null object\n",
      "CAMEO_INTL_2015          792242 non-null object\n",
      "KBA05_ANTG1              757897 non-null float64\n",
      "KBA05_ANTG2              757897 non-null float64\n",
      "KBA05_ANTG3              757897 non-null float64\n",
      "KBA05_ANTG4              757897 non-null float64\n",
      "KBA05_BAUMAX             757897 non-null float64\n",
      "KBA05_GBZ                757897 non-null float64\n",
      "BALLRAUM                 797481 non-null float64\n",
      "EWDICHTE                 797481 non-null float64\n",
      "INNENSTADT               797481 non-null float64\n",
      "GEBAEUDETYP_RASTER       798066 non-null float64\n",
      "KKK                      770025 non-null float64\n",
      "MOBI_REGIO               757897 non-null float64\n",
      "ONLINE_AFFINITAET        886367 non-null float64\n",
      "REGIOTYP                 770025 non-null float64\n",
      "KBA13_ANZAHL_PKW         785421 non-null float64\n",
      "PLZ8_ANTG1               774706 non-null float64\n",
      "PLZ8_ANTG2               774706 non-null float64\n",
      "PLZ8_ANTG3               774706 non-null float64\n",
      "PLZ8_ANTG4               774706 non-null float64\n",
      "PLZ8_BAUMAX              774706 non-null float64\n",
      "PLZ8_HHZ                 774706 non-null float64\n",
      "PLZ8_GBZ                 774706 non-null float64\n",
      "ARBEIT                   794005 non-null float64\n",
      "ORTSGR_KLS9              794005 non-null float64\n",
      "RELAT_AB                 794005 non-null float64\n",
      "dtypes: float64(49), int64(32), object(4)\n",
      "memory usage: 578.0+ MB\n"
     ]
    },
    {
     "data": {
      "text/html": [
       "<div>\n",
       "<style scoped>\n",
       "    .dataframe tbody tr th:only-of-type {\n",
       "        vertical-align: middle;\n",
       "    }\n",
       "\n",
       "    .dataframe tbody tr th {\n",
       "        vertical-align: top;\n",
       "    }\n",
       "\n",
       "    .dataframe thead th {\n",
       "        text-align: right;\n",
       "    }\n",
       "</style>\n",
       "<table border=\"1\" class=\"dataframe\">\n",
       "  <thead>\n",
       "    <tr style=\"text-align: right;\">\n",
       "      <th></th>\n",
       "      <th>AGER_TYP</th>\n",
       "      <th>ALTERSKATEGORIE_GROB</th>\n",
       "      <th>ANREDE_KZ</th>\n",
       "      <th>CJT_GESAMTTYP</th>\n",
       "      <th>FINANZ_MINIMALIST</th>\n",
       "      <th>FINANZ_SPARER</th>\n",
       "      <th>FINANZ_VORSORGER</th>\n",
       "      <th>FINANZ_ANLEGER</th>\n",
       "      <th>FINANZ_UNAUFFAELLIGER</th>\n",
       "      <th>FINANZ_HAUSBAUER</th>\n",
       "      <th>...</th>\n",
       "      <th>PLZ8_ANTG1</th>\n",
       "      <th>PLZ8_ANTG2</th>\n",
       "      <th>PLZ8_ANTG3</th>\n",
       "      <th>PLZ8_ANTG4</th>\n",
       "      <th>PLZ8_BAUMAX</th>\n",
       "      <th>PLZ8_HHZ</th>\n",
       "      <th>PLZ8_GBZ</th>\n",
       "      <th>ARBEIT</th>\n",
       "      <th>ORTSGR_KLS9</th>\n",
       "      <th>RELAT_AB</th>\n",
       "    </tr>\n",
       "  </thead>\n",
       "  <tbody>\n",
       "    <tr>\n",
       "      <th>0</th>\n",
       "      <td>-1</td>\n",
       "      <td>2</td>\n",
       "      <td>1</td>\n",
       "      <td>2.0</td>\n",
       "      <td>3</td>\n",
       "      <td>4</td>\n",
       "      <td>3</td>\n",
       "      <td>5</td>\n",
       "      <td>5</td>\n",
       "      <td>3</td>\n",
       "      <td>...</td>\n",
       "      <td>NaN</td>\n",
       "      <td>NaN</td>\n",
       "      <td>NaN</td>\n",
       "      <td>NaN</td>\n",
       "      <td>NaN</td>\n",
       "      <td>NaN</td>\n",
       "      <td>NaN</td>\n",
       "      <td>NaN</td>\n",
       "      <td>NaN</td>\n",
       "      <td>NaN</td>\n",
       "    </tr>\n",
       "    <tr>\n",
       "      <th>1</th>\n",
       "      <td>-1</td>\n",
       "      <td>1</td>\n",
       "      <td>2</td>\n",
       "      <td>5.0</td>\n",
       "      <td>1</td>\n",
       "      <td>5</td>\n",
       "      <td>2</td>\n",
       "      <td>5</td>\n",
       "      <td>4</td>\n",
       "      <td>5</td>\n",
       "      <td>...</td>\n",
       "      <td>2.0</td>\n",
       "      <td>3.0</td>\n",
       "      <td>2.0</td>\n",
       "      <td>1.0</td>\n",
       "      <td>1.0</td>\n",
       "      <td>5.0</td>\n",
       "      <td>4.0</td>\n",
       "      <td>3.0</td>\n",
       "      <td>5.0</td>\n",
       "      <td>4.0</td>\n",
       "    </tr>\n",
       "    <tr>\n",
       "      <th>2</th>\n",
       "      <td>-1</td>\n",
       "      <td>3</td>\n",
       "      <td>2</td>\n",
       "      <td>3.0</td>\n",
       "      <td>1</td>\n",
       "      <td>4</td>\n",
       "      <td>1</td>\n",
       "      <td>2</td>\n",
       "      <td>3</td>\n",
       "      <td>5</td>\n",
       "      <td>...</td>\n",
       "      <td>3.0</td>\n",
       "      <td>3.0</td>\n",
       "      <td>1.0</td>\n",
       "      <td>0.0</td>\n",
       "      <td>1.0</td>\n",
       "      <td>4.0</td>\n",
       "      <td>4.0</td>\n",
       "      <td>3.0</td>\n",
       "      <td>5.0</td>\n",
       "      <td>2.0</td>\n",
       "    </tr>\n",
       "    <tr>\n",
       "      <th>3</th>\n",
       "      <td>2</td>\n",
       "      <td>4</td>\n",
       "      <td>2</td>\n",
       "      <td>2.0</td>\n",
       "      <td>4</td>\n",
       "      <td>2</td>\n",
       "      <td>5</td>\n",
       "      <td>2</td>\n",
       "      <td>1</td>\n",
       "      <td>2</td>\n",
       "      <td>...</td>\n",
       "      <td>2.0</td>\n",
       "      <td>2.0</td>\n",
       "      <td>2.0</td>\n",
       "      <td>0.0</td>\n",
       "      <td>1.0</td>\n",
       "      <td>3.0</td>\n",
       "      <td>4.0</td>\n",
       "      <td>2.0</td>\n",
       "      <td>3.0</td>\n",
       "      <td>3.0</td>\n",
       "    </tr>\n",
       "    <tr>\n",
       "      <th>4</th>\n",
       "      <td>-1</td>\n",
       "      <td>3</td>\n",
       "      <td>1</td>\n",
       "      <td>5.0</td>\n",
       "      <td>4</td>\n",
       "      <td>3</td>\n",
       "      <td>4</td>\n",
       "      <td>1</td>\n",
       "      <td>3</td>\n",
       "      <td>2</td>\n",
       "      <td>...</td>\n",
       "      <td>2.0</td>\n",
       "      <td>4.0</td>\n",
       "      <td>2.0</td>\n",
       "      <td>1.0</td>\n",
       "      <td>2.0</td>\n",
       "      <td>3.0</td>\n",
       "      <td>3.0</td>\n",
       "      <td>4.0</td>\n",
       "      <td>6.0</td>\n",
       "      <td>5.0</td>\n",
       "    </tr>\n",
       "  </tbody>\n",
       "</table>\n",
       "<p>5 rows × 85 columns</p>\n",
       "</div>"
      ],
      "text/plain": [
       "   AGER_TYP  ALTERSKATEGORIE_GROB  ANREDE_KZ  CJT_GESAMTTYP  \\\n",
       "0        -1                     2          1            2.0   \n",
       "1        -1                     1          2            5.0   \n",
       "2        -1                     3          2            3.0   \n",
       "3         2                     4          2            2.0   \n",
       "4        -1                     3          1            5.0   \n",
       "\n",
       "   FINANZ_MINIMALIST  FINANZ_SPARER  FINANZ_VORSORGER  FINANZ_ANLEGER  \\\n",
       "0                  3              4                 3               5   \n",
       "1                  1              5                 2               5   \n",
       "2                  1              4                 1               2   \n",
       "3                  4              2                 5               2   \n",
       "4                  4              3                 4               1   \n",
       "\n",
       "   FINANZ_UNAUFFAELLIGER  FINANZ_HAUSBAUER    ...     PLZ8_ANTG1  PLZ8_ANTG2  \\\n",
       "0                      5                 3    ...            NaN         NaN   \n",
       "1                      4                 5    ...            2.0         3.0   \n",
       "2                      3                 5    ...            3.0         3.0   \n",
       "3                      1                 2    ...            2.0         2.0   \n",
       "4                      3                 2    ...            2.0         4.0   \n",
       "\n",
       "   PLZ8_ANTG3  PLZ8_ANTG4  PLZ8_BAUMAX  PLZ8_HHZ  PLZ8_GBZ  ARBEIT  \\\n",
       "0         NaN         NaN          NaN       NaN       NaN     NaN   \n",
       "1         2.0         1.0          1.0       5.0       4.0     3.0   \n",
       "2         1.0         0.0          1.0       4.0       4.0     3.0   \n",
       "3         2.0         0.0          1.0       3.0       4.0     2.0   \n",
       "4         2.0         1.0          2.0       3.0       3.0     4.0   \n",
       "\n",
       "   ORTSGR_KLS9  RELAT_AB  \n",
       "0          NaN       NaN  \n",
       "1          5.0       4.0  \n",
       "2          5.0       2.0  \n",
       "3          3.0       3.0  \n",
       "4          6.0       5.0  \n",
       "\n",
       "[5 rows x 85 columns]"
      ]
     },
     "execution_count": 132,
     "metadata": {},
     "output_type": "execute_result"
    }
   ],
   "source": [
    "# Check the structure of the data after it's loaded (e.g. print the number of\n",
    "# rows and columns, print the first few rows).\n",
    "\n",
    "# Udacity_AZDIAS_Subset.csv: Demographics data for the general population of Germany\n",
    "azdias. info()\n",
    "azdias.head()"
   ]
  },
  {
   "cell_type": "code",
   "execution_count": 133,
   "metadata": {},
   "outputs": [
    {
     "name": "stdout",
     "output_type": "stream",
     "text": [
      "<class 'pandas.core.frame.DataFrame'>\n",
      "RangeIndex: 85 entries, 0 to 84\n",
      "Data columns (total 4 columns):\n",
      "attribute             85 non-null object\n",
      "information_level     85 non-null object\n",
      "type                  85 non-null object\n",
      "missing_or_unknown    85 non-null object\n",
      "dtypes: object(4)\n",
      "memory usage: 2.7+ KB\n"
     ]
    },
    {
     "data": {
      "text/html": [
       "<div>\n",
       "<style scoped>\n",
       "    .dataframe tbody tr th:only-of-type {\n",
       "        vertical-align: middle;\n",
       "    }\n",
       "\n",
       "    .dataframe tbody tr th {\n",
       "        vertical-align: top;\n",
       "    }\n",
       "\n",
       "    .dataframe thead th {\n",
       "        text-align: right;\n",
       "    }\n",
       "</style>\n",
       "<table border=\"1\" class=\"dataframe\">\n",
       "  <thead>\n",
       "    <tr style=\"text-align: right;\">\n",
       "      <th></th>\n",
       "      <th>attribute</th>\n",
       "      <th>information_level</th>\n",
       "      <th>type</th>\n",
       "      <th>missing_or_unknown</th>\n",
       "    </tr>\n",
       "  </thead>\n",
       "  <tbody>\n",
       "    <tr>\n",
       "      <th>0</th>\n",
       "      <td>AGER_TYP</td>\n",
       "      <td>person</td>\n",
       "      <td>categorical</td>\n",
       "      <td>[-1,0]</td>\n",
       "    </tr>\n",
       "    <tr>\n",
       "      <th>1</th>\n",
       "      <td>ALTERSKATEGORIE_GROB</td>\n",
       "      <td>person</td>\n",
       "      <td>ordinal</td>\n",
       "      <td>[-1,0,9]</td>\n",
       "    </tr>\n",
       "    <tr>\n",
       "      <th>2</th>\n",
       "      <td>ANREDE_KZ</td>\n",
       "      <td>person</td>\n",
       "      <td>categorical</td>\n",
       "      <td>[-1,0]</td>\n",
       "    </tr>\n",
       "    <tr>\n",
       "      <th>3</th>\n",
       "      <td>CJT_GESAMTTYP</td>\n",
       "      <td>person</td>\n",
       "      <td>categorical</td>\n",
       "      <td>[0]</td>\n",
       "    </tr>\n",
       "    <tr>\n",
       "      <th>4</th>\n",
       "      <td>FINANZ_MINIMALIST</td>\n",
       "      <td>person</td>\n",
       "      <td>ordinal</td>\n",
       "      <td>[-1]</td>\n",
       "    </tr>\n",
       "  </tbody>\n",
       "</table>\n",
       "</div>"
      ],
      "text/plain": [
       "              attribute information_level         type missing_or_unknown\n",
       "0              AGER_TYP            person  categorical             [-1,0]\n",
       "1  ALTERSKATEGORIE_GROB            person      ordinal           [-1,0,9]\n",
       "2             ANREDE_KZ            person  categorical             [-1,0]\n",
       "3         CJT_GESAMTTYP            person  categorical                [0]\n",
       "4     FINANZ_MINIMALIST            person      ordinal               [-1]"
      ]
     },
     "execution_count": 133,
     "metadata": {},
     "output_type": "execute_result"
    }
   ],
   "source": [
    "# Summary of feature attributes\n",
    "feat_info.info()\n",
    "feat_info.head()"
   ]
  },
  {
   "cell_type": "markdown",
   "metadata": {},
   "source": [
    "> **Tip**: Add additional cells to keep everything in reasonably-sized chunks! Keyboard shortcut `esc --> a` (press escape to enter command mode, then press the 'A' key) adds a new cell before the active cell, and `esc --> b` adds a new cell after the active cell. If you need to convert an active cell to a markdown cell, use `esc --> m` and to convert to a code cell, use `esc --> y`. \n",
    "\n",
    "## Step 1: Preprocessing\n",
    "\n",
    "### Step 1.1: Assess Missing Data\n",
    "\n",
    "The feature summary file contains a summary of properties for each demographics data column. You will use this file to help you make cleaning decisions during this stage of the project. First of all, you should assess the demographics data in terms of missing data. Pay attention to the following points as you perform your analysis, and take notes on what you observe. Make sure that you fill in the **Discussion** cell with your findings and decisions at the end of each step that has one!\n",
    "\n",
    "#### Step 1.1.1: Convert Missing Value Codes to NaNs\n",
    "The fourth column of the feature attributes summary (loaded in above as `feat_info`) documents the codes from the data dictionary that indicate missing or unknown data. While the file encodes this as a list (e.g. `[-1,0]`), this will get read in as a string object. You'll need to do a little bit of parsing to make use of it to identify and clean the data. Convert data that matches a 'missing' or 'unknown' value code into a numpy NaN value. You might want to see how much data takes on a 'missing' or 'unknown' code, and how much data is naturally missing, as a point of interest.\n",
    "\n",
    "**As one more reminder, you are encouraged to add additional cells to break up your analysis into manageable chunks.**"
   ]
  },
  {
   "cell_type": "code",
   "execution_count": 134,
   "metadata": {},
   "outputs": [],
   "source": [
    "# Identify missing or unknown data values and convert them to NaNs.\n",
    "replace_dict = {}\n",
    "\n",
    "# to solve NameError: name 'X' is not defined\n",
    "globals = {\n",
    "    'X': 999,\n",
    "    'XX' : 999\n",
    "}\n",
    "\n",
    "# to solve TypeError\n",
    "# Reference https://stackoverflow.com/questions/7027312/using-eval-with-undefined-variables\n",
    "class Reflector(object):\n",
    "    def __getitem__(self, name):\n",
    "        return name\n",
    "    \n",
    "for key, value in zip(feat_info[\"attribute\"], feat_info[\"missing_or_unknown\"]):\n",
    "    if value != \"[]\":\n",
    "        try:\n",
    "            eval(value)\n",
    "        except Exception:\n",
    "            replace_dict[key] = [str(i) for i in eval(value, globals, Reflector())]\n",
    "        else:\n",
    "            replace_dict[key] = eval(value)\n",
    "\n",
    "azdias = azdias.replace(replace_dict, np.nan)"
   ]
  },
  {
   "cell_type": "markdown",
   "metadata": {},
   "source": [
    "#### Step 1.1.2: Assess Missing Data in Each Column\n",
    "\n",
    "How much missing data is present in each column? There are a few columns that are outliers in terms of the proportion of values that are missing. You will want to use matplotlib's [`hist()`](https://matplotlib.org/api/_as_gen/matplotlib.pyplot.hist.html) function to visualize the distribution of missing value counts to find these columns. Identify and document these columns. While some of these columns might have justifications for keeping or re-encoding the data, for this project you should just remove them from the dataframe. (Feel free to make remarks about these outlier columns in the discussion, however!)\n",
    "\n",
    "For the remaining features, are there any patterns in which columns have, or share, missing data?"
   ]
  },
  {
   "cell_type": "code",
   "execution_count": 135,
   "metadata": {},
   "outputs": [
    {
     "name": "stdout",
     "output_type": "stream",
     "text": [
      "AGER_TYP                 685843\n",
      "ALTERSKATEGORIE_GROB       2881\n",
      "ANREDE_KZ                     0\n",
      "CJT_GESAMTTYP              4854\n",
      "FINANZ_MINIMALIST             0\n",
      "FINANZ_SPARER                 0\n",
      "FINANZ_VORSORGER              0\n",
      "FINANZ_ANLEGER                0\n",
      "FINANZ_UNAUFFAELLIGER         0\n",
      "FINANZ_HAUSBAUER              0\n",
      "FINANZTYP                     0\n",
      "GEBURTSJAHR              392318\n",
      "GFK_URLAUBERTYP            4854\n",
      "GREEN_AVANTGARDE              0\n",
      "HEALTH_TYP               111196\n",
      "LP_LEBENSPHASE_FEIN       97632\n",
      "LP_LEBENSPHASE_GROB       94572\n",
      "LP_FAMILIE_FEIN           77792\n",
      "LP_FAMILIE_GROB           77792\n",
      "LP_STATUS_FEIN             4854\n",
      "LP_STATUS_GROB             4854\n",
      "NATIONALITAET_KZ         108315\n",
      "PRAEGENDE_JUGENDJAHRE    108164\n",
      "RETOURTYP_BK_S             4854\n",
      "SEMIO_SOZ                     0\n",
      "SEMIO_FAM                     0\n",
      "SEMIO_REL                     0\n",
      "SEMIO_MAT                     0\n",
      "SEMIO_VERT                    0\n",
      "SEMIO_LUST                    0\n",
      "                          ...  \n",
      "OST_WEST_KZ               93148\n",
      "WOHNLAGE                  93148\n",
      "CAMEO_DEUG_2015           99352\n",
      "CAMEO_DEU_2015            99352\n",
      "CAMEO_INTL_2015           99352\n",
      "KBA05_ANTG1              133324\n",
      "KBA05_ANTG2              133324\n",
      "KBA05_ANTG3              133324\n",
      "KBA05_ANTG4              133324\n",
      "KBA05_BAUMAX             476524\n",
      "KBA05_GBZ                133324\n",
      "BALLRAUM                  93740\n",
      "EWDICHTE                  93740\n",
      "INNENSTADT                93740\n",
      "GEBAEUDETYP_RASTER        93155\n",
      "KKK                      158064\n",
      "MOBI_REGIO               133324\n",
      "ONLINE_AFFINITAET          4854\n",
      "REGIOTYP                 158064\n",
      "KBA13_ANZAHL_PKW         105800\n",
      "PLZ8_ANTG1               116515\n",
      "PLZ8_ANTG2               116515\n",
      "PLZ8_ANTG3               116515\n",
      "PLZ8_ANTG4               116515\n",
      "PLZ8_BAUMAX              116515\n",
      "PLZ8_HHZ                 116515\n",
      "PLZ8_GBZ                 116515\n",
      "ARBEIT                    97375\n",
      "ORTSGR_KLS9               97274\n",
      "RELAT_AB                  97375\n",
      "Length: 85, dtype: int64\n"
     ]
    }
   ],
   "source": [
    "# Perform an assessment of how much missing data there is in each column of the\n",
    "# dataset.\n",
    "na_count = azdias.isnull().sum()\n",
    "print(na_count)"
   ]
  },
  {
   "cell_type": "code",
   "execution_count": 136,
   "metadata": {},
   "outputs": [
    {
     "data": {
      "text/plain": [
       "(array([39., 40.,  0.,  1.,  1.,  1.,  1.,  1.,  0.,  1.]),\n",
       " array([     0. ,  88906.1, 177812.2, 266718.3, 355624.4, 444530.5,\n",
       "        533436.6, 622342.7, 711248.8, 800154.9, 889061. ]),\n",
       " <a list of 10 Patch objects>)"
      ]
     },
     "execution_count": 136,
     "metadata": {},
     "output_type": "execute_result"
    },
    {
     "data": {
      "image/png": "[encoded data removed]",
      "text/plain": [
       "<Figure size 432x288 with 1 Axes>"
      ]
     },
     "metadata": {},
     "output_type": "display_data"
    }
   ],
   "source": [
    "# Investigate patterns in the amount of missing data in each column.\n",
    "plt.hist(na_count)"
   ]
  },
  {
   "cell_type": "code",
   "execution_count": 137,
   "metadata": {},
   "outputs": [],
   "source": [
    "# Remove the outlier columns from the dataset. (You'll perform other data\n",
    "# engineering tasks such as re-encoding and imputation later.)\n",
    "outlier_columns = na_count[na_count > 200000]\n",
    "azdias.drop(outlier_columns.index, axis=1, inplace=True)"
   ]
  },
  {
   "cell_type": "code",
   "execution_count": 138,
   "metadata": {},
   "outputs": [
    {
     "data": {
      "text/plain": [
       "AGER_TYP        685843\n",
       "GEBURTSJAHR     392318\n",
       "TITEL_KZ        889061\n",
       "ALTER_HH        310267\n",
       "KK_KUNDENTYP    584612\n",
       "KBA05_BAUMAX    476524\n",
       "dtype: int64"
      ]
     },
     "execution_count": 138,
     "metadata": {},
     "output_type": "execute_result"
    }
   ],
   "source": [
    "outlier_columns"
   ]
  },
  {
   "cell_type": "markdown",
   "metadata": {},
   "source": [
    "#### Discussion 1.1.2: Assess Missing Data in Each Column\n",
    "\n",
    "I filter columns with more than 200,000 missing values and removed them. In this case, columns AGER_TYP, GEBURTSJAHR, TITEL_KZ, ALTER_HH, KK_KUNDENTYP, KBA05_BAUMAX are removed. \n",
    "\n",
    "I also noticed that attributes with similiar names tends to have same missing value.\n",
    "For excample, attributes starting with \"KBA05\" and \"PLZ8\".\n"
   ]
  },
  {
   "cell_type": "markdown",
   "metadata": {},
   "source": [
    "#### Step 1.1.3: Assess Missing Data in Each Row\n",
    "\n",
    "Now, you'll perform a similar assessment for the rows of the dataset. How much data is missing in each row? As with the columns, you should see some groups of points that have a very different numbers of missing values. Divide the data into two subsets: one for data points that are above some threshold for missing values, and a second subset for points below that threshold.\n",
    "\n",
    "In order to know what to do with the outlier rows, we should see if the distribution of data values on columns that are not missing data (or are missing very little data) are similar or different between the two groups. Select at least five of these columns and compare the distribution of values.\n",
    "- You can use seaborn's [`countplot()`](https://seaborn.pydata.org/generated/seaborn.countplot.html) function to create a bar chart of code frequencies and matplotlib's [`subplot()`](https://matplotlib.org/api/_as_gen/matplotlib.pyplot.subplot.html) function to put bar charts for the two subplots side by side.\n",
    "- To reduce repeated code, you might want to write a function that can perform this comparison, taking as one of its arguments a column to be compared.\n",
    "\n",
    "Depending on what you observe in your comparison, this will have implications on how you approach your conclusions later in the analysis. If the distributions of non-missing features look similar between the data with many missing values and the data with few or no missing values, then we could argue that simply dropping those points from the analysis won't present a major issue. On the other hand, if the data with many missing values looks very different from the data with few or no missing values, then we should make a note on those data as special. We'll revisit these data later on. **Either way, you should continue your analysis for now using just the subset of the data with few or no missing values.**"
   ]
  },
  {
   "cell_type": "code",
   "execution_count": 139,
   "metadata": {},
   "outputs": [
    {
     "data": {
      "text/plain": [
       "(array([6.97109e+05, 7.76340e+04, 1.28010e+04, 9.53300e+03, 8.29000e+02,\n",
       "        1.55000e+02, 1.40160e+04, 5.03100e+03, 2.80380e+04, 4.60750e+04]),\n",
       " array([ 0. ,  4.9,  9.8, 14.7, 19.6, 24.5, 29.4, 34.3, 39.2, 44.1, 49. ]),\n",
       " <a list of 10 Patch objects>)"
      ]
     },
     "execution_count": 139,
     "metadata": {},
     "output_type": "execute_result"
    },
    {
     "data": {
      "image/png": "[encoded data removed]",
      "text/plain": [
       "<Figure size 432x288 with 1 Axes>"
      ]
     },
     "metadata": {},
     "output_type": "display_data"
    }
   ],
   "source": [
    "# How much data is missing in each row of the dataset?\n",
    "azdias[\"missing_in_row\"] = azdias.apply(lambda x: len(x) - x.count(), axis=1)\n",
    "azdias[\"missing_in_row\"].value_counts().sort_index()\n",
    "\n",
    "plt.hist(azdias[\"missing_in_row\"])"
   ]
  },
  {
   "cell_type": "code",
   "execution_count": 140,
   "metadata": {},
   "outputs": [],
   "source": [
    "# Write code to divide the data into two subsets based on the number of missing\n",
    "# values in each row.\n",
    "azdias[\"missing_lvl\"] = azdias.apply(lambda x: \"Low\" if x[\"missing_in_row\"] < 10 else \"High\", axis=1)\n",
    "\n",
    "df_low = azdias[azdias[\"missing_lvl\"] == \"Low\"]\n",
    "df_high = azdias[azdias[\"missing_lvl\"] == \"High\"]"
   ]
  },
  {
   "cell_type": "code",
   "execution_count": 141,
   "metadata": {},
   "outputs": [],
   "source": [
    "# Compare the distribution of values for at least five columns where there are\n",
    "# no or few missing values, between the two subsets.\n",
    "\n",
    "def compare_plot(df_low, df_high, col_name):\n",
    "    plt.figure(1, figsize=(12,3))\n",
    "    plt.subplot(121)\n",
    "    sns.countplot(df_low.loc[:, col_name])\n",
    "    plt.subplot(122)\n",
    "    sns.countplot(df_high.loc[:, col_name])"
   ]
  },
  {
   "cell_type": "code",
   "execution_count": 142,
   "metadata": {},
   "outputs": [],
   "source": [
    "azdias_low = df_low.drop([\"missing_lvl\", \"missing_in_row\"], axis=1)"
   ]
  },
  {
   "cell_type": "code",
   "execution_count": 209,
   "metadata": {},
   "outputs": [
    {
     "data": {
      "text/plain": [
       "Index(['ALTERSKATEGORIE_GROB', 'ANREDE_KZ', 'CJT_GESAMTTYP',\n",
       "       'FINANZ_MINIMALIST', 'FINANZ_SPARER', 'FINANZ_VORSORGER',\n",
       "       'FINANZ_ANLEGER', 'FINANZ_UNAUFFAELLIGER', 'FINANZ_HAUSBAUER',\n",
       "       'FINANZTYP', 'GFK_URLAUBERTYP', 'GREEN_AVANTGARDE', 'HEALTH_TYP',\n",
       "       'LP_LEBENSPHASE_FEIN', 'LP_LEBENSPHASE_GROB', 'LP_FAMILIE_FEIN',\n",
       "       'LP_FAMILIE_GROB', 'LP_STATUS_FEIN', 'LP_STATUS_GROB',\n",
       "       'NATIONALITAET_KZ', 'PRAEGENDE_JUGENDJAHRE', 'RETOURTYP_BK_S',\n",
       "       'SEMIO_SOZ', 'SEMIO_FAM', 'SEMIO_REL', 'SEMIO_MAT', 'SEMIO_VERT',\n",
       "       'SEMIO_LUST', 'SEMIO_ERL', 'SEMIO_KULT', 'SEMIO_RAT', 'SEMIO_KRIT',\n",
       "       'SEMIO_DOM', 'SEMIO_KAEM', 'SEMIO_PFLICHT', 'SEMIO_TRADV',\n",
       "       'SHOPPER_TYP', 'SOHO_KZ', 'VERS_TYP', 'ZABEOTYP', 'ANZ_PERSONEN',\n",
       "       'ANZ_TITEL', 'HH_EINKOMMEN_SCORE', 'W_KEIT_KIND_HH', 'WOHNDAUER_2008',\n",
       "       'ANZ_HAUSHALTE_AKTIV', 'ANZ_HH_TITEL', 'GEBAEUDETYP', 'KONSUMNAEHE',\n",
       "       'MIN_GEBAEUDEJAHR', 'OST_WEST_KZ', 'WOHNLAGE', 'CAMEO_DEUG_2015',\n",
       "       'CAMEO_DEU_2015', 'CAMEO_INTL_2015', 'KBA05_ANTG1', 'KBA05_ANTG2',\n",
       "       'KBA05_ANTG3', 'KBA05_ANTG4', 'KBA05_GBZ', 'BALLRAUM', 'EWDICHTE',\n",
       "       'INNENSTADT', 'GEBAEUDETYP_RASTER', 'KKK', 'MOBI_REGIO',\n",
       "       'ONLINE_AFFINITAET', 'REGIOTYP', 'KBA13_ANZAHL_PKW', 'PLZ8_ANTG1',\n",
       "       'PLZ8_ANTG2', 'PLZ8_ANTG3', 'PLZ8_ANTG4', 'PLZ8_BAUMAX', 'PLZ8_HHZ',\n",
       "       'PLZ8_GBZ', 'ARBEIT', 'ORTSGR_KLS9', 'RELAT_AB', 'missing_in_row',\n",
       "       'missing_lvl'],\n",
       "      dtype='object')"
      ]
     },
     "execution_count": 209,
     "metadata": {},
     "output_type": "execute_result"
    }
   ],
   "source": [
    "df_low.columns"
   ]
  },
  {
   "cell_type": "code",
   "execution_count": 144,
   "metadata": {},
   "outputs": [
    {
     "data": {
      "image/png": "[encoded data removed]",
      "text/plain": [
       "<Figure size 864x216 with 2 Axes>"
      ]
     },
     "metadata": {},
     "output_type": "display_data"
    }
   ],
   "source": [
    "compare_plot(df_low, df_high, 'ALTERSKATEGORIE_GROB')"
   ]
  },
  {
   "cell_type": "code",
   "execution_count": 145,
   "metadata": {},
   "outputs": [
    {
     "data": {
      "image/png": "[encoded data removed]",
      "text/plain": [
       "<Figure size 864x216 with 2 Axes>"
      ]
     },
     "metadata": {},
     "output_type": "display_data"
    }
   ],
   "source": [
    "compare_plot(df_low, df_high, 'LP_STATUS_FEIN')"
   ]
  },
  {
   "cell_type": "code",
   "execution_count": 146,
   "metadata": {},
   "outputs": [
    {
     "data": {
      "image/png": "[encoded data removed]",
      "text/plain": [
       "<Figure size 864x216 with 2 Axes>"
      ]
     },
     "metadata": {},
     "output_type": "display_data"
    }
   ],
   "source": [
    "compare_plot(df_low, df_high, 'PRAEGENDE_JUGENDJAHRE')"
   ]
  },
  {
   "cell_type": "markdown",
   "metadata": {},
   "source": [
    "#### Discussion 1.1.3: Assess Missing Data in Each Row\n",
    "\n",
    "On certain attribute, the distribution between low and high is similiar. But more attributes are different.\n",
    "I would say data with lots of missing values are qualitatively different from data with few or no missing values.\n",
    "\n"
   ]
  },
  {
   "cell_type": "markdown",
   "metadata": {},
   "source": [
    "### Step 1.2: Select and Re-Encode Features\n",
    "\n",
    "Checking for missing data isn't the only way in which you can prepare a dataset for analysis. Since the unsupervised learning techniques to be used will only work on data that is encoded numerically, you need to make a few encoding changes or additional assumptions to be able to make progress. In addition, while almost all of the values in the dataset are encoded using numbers, not all of them represent numeric values. Check the third column of the feature summary (`feat_info`) for a summary of types of measurement.\n",
    "- For numeric and interval data, these features can be kept without changes.\n",
    "- Most of the variables in the dataset are ordinal in nature. While ordinal values may technically be non-linear in spacing, make the simplifying assumption that the ordinal variables can be treated as being interval in nature (that is, kept without any changes).\n",
    "- Special handling may be necessary for the remaining two variable types: categorical, and 'mixed'.\n",
    "\n",
    "In the first two parts of this sub-step, you will perform an investigation of the categorical and mixed-type features and make a decision on each of them, whether you will keep, drop, or re-encode each. Then, in the last part, you will create a new data frame with only the selected and engineered columns.\n",
    "\n",
    "Data wrangling is often the trickiest part of the data analysis process, and there's a lot of it to be done here. But stick with it: once you're done with this step, you'll be ready to get to the machine learning parts of the project!"
   ]
  },
  {
   "cell_type": "code",
   "execution_count": 147,
   "metadata": {},
   "outputs": [
    {
     "data": {
      "text/plain": [
       "ordinal        49\n",
       "categorical    21\n",
       "numeric         7\n",
       "mixed           7\n",
       "interval        1\n",
       "Name: type, dtype: int64"
      ]
     },
     "execution_count": 147,
     "metadata": {},
     "output_type": "execute_result"
    }
   ],
   "source": [
    "# How many features are there of each data type?\n",
    "feat_info['type'].value_counts()"
   ]
  },
  {
   "cell_type": "markdown",
   "metadata": {},
   "source": [
    "#### Step 1.2.1: Re-Encode Categorical Features\n",
    "\n",
    "For categorical data, you would ordinarily need to encode the levels as dummy variables. Depending on the number of categories, perform one of the following:\n",
    "- For binary (two-level) categoricals that take numeric values, you can keep them without needing to do anything.\n",
    "- There is one binary variable that takes on non-numeric values. For this one, you need to re-encode the values as numbers or create a dummy variable.\n",
    "- For multi-level categoricals (three or more values), you can choose to encode the values using multiple dummy variables (e.g. via [OneHotEncoder](http://scikit-learn.org/stable/modules/generated/sklearn.preprocessing.OneHotEncoder.html)), or (to keep things straightforward) just drop them from the analysis. As always, document your choices in the Discussion section."
   ]
  },
  {
   "cell_type": "code",
   "execution_count": 148,
   "metadata": {},
   "outputs": [
    {
     "data": {
      "text/plain": [
       "ANREDE_KZ            2\n",
       "CJT_GESAMTTYP        6\n",
       "FINANZTYP            6\n",
       "GFK_URLAUBERTYP     12\n",
       "GREEN_AVANTGARDE     2\n",
       "LP_FAMILIE_FEIN     11\n",
       "LP_FAMILIE_GROB      5\n",
       "LP_STATUS_FEIN      10\n",
       "LP_STATUS_GROB       5\n",
       "NATIONALITAET_KZ     3\n",
       "SHOPPER_TYP          4\n",
       "SOHO_KZ              2\n",
       "VERS_TYP             2\n",
       "ZABEOTYP             6\n",
       "GEBAEUDETYP          7\n",
       "OST_WEST_KZ          2\n",
       "CAMEO_DEUG_2015      9\n",
       "CAMEO_DEU_2015      44\n",
       "dtype: int64"
      ]
     },
     "execution_count": 148,
     "metadata": {},
     "output_type": "execute_result"
    }
   ],
   "source": [
    "# Assess categorical variables: which are binary, which are multi-level, and\n",
    "# which one needs to be re-encoded?\n",
    "\n",
    "# get attributes whose type == categorical\n",
    "cate_attribute_list = feat_info[feat_info[\"type\"] == \"categorical\"][\"attribute\"].values\n",
    "\n",
    "# get unique value of attributes from azdias_low list\n",
    "cate_attribute_list = [x for x in cate_attribute_list if x in azdias_low.columns]\n",
    "azdias_low[cate_attribute_list].nunique()"
   ]
  },
  {
   "cell_type": "code",
   "execution_count": 149,
   "metadata": {},
   "outputs": [],
   "source": [
    "binary = [x for x in cate_attribute_list if azdias_low[x].nunique() == 2]\n",
    "one_hot = [x for x in cate_attribute_list if azdias_low[x].nunique() > 2]"
   ]
  },
  {
   "cell_type": "code",
   "execution_count": 150,
   "metadata": {},
   "outputs": [],
   "source": [
    "# Drop CAMEO_DEU_2015 since it has 45 value which will increase dimension too much for a single attribute\n",
    "one_hot.remove('CAMEO_DEU_2015')\n",
    "azdias_low.drop('CAMEO_DEU_2015', axis=1, inplace=True)"
   ]
  },
  {
   "cell_type": "code",
   "execution_count": 151,
   "metadata": {},
   "outputs": [],
   "source": [
    "# Re-encode categorical variable(s) to be kept in the analysis.\n",
    "# 1. Convert non-numeric binary attribute to 0/1\n",
    "azdias_low['OST_WEST_KZ'].replace({'W':0, 'O':1}, inplace=True)"
   ]
  },
  {
   "cell_type": "code",
   "execution_count": 152,
   "metadata": {},
   "outputs": [],
   "source": [
    "# 2. OneHotEncoder\n",
    "azdias_low = pd.get_dummies(azdias_low, columns=one_hot, prefix = one_hot)"
   ]
  },
  {
   "cell_type": "markdown",
   "metadata": {},
   "source": [
    "#### Discussion 1.2.1: Re-Encode Categorical Features\n",
    "\n",
    "* CAMEO_DEU_2015 was drop to avoid dimension problem\n",
    "* Although OST_WEST_KZ was binary value, but it was not numeric. So replace with 0 and 1.\n",
    "* Other categorical attributes was converted through OneHotEncoder."
   ]
  },
  {
   "cell_type": "markdown",
   "metadata": {},
   "source": [
    "#### Step 1.2.2: Engineer Mixed-Type Features\n",
    "\n",
    "There are a handful of features that are marked as \"mixed\" in the feature summary that require special treatment in order to be included in the analysis. There are two in particular that deserve attention; the handling of the rest are up to your own choices:\n",
    "- \"PRAEGENDE_JUGENDJAHRE\" combines information on three dimensions: generation by decade, movement (mainstream vs. avantgarde), and nation (east vs. west). While there aren't enough levels to disentangle east from west, you should create two new variables to capture the other two dimensions: an interval-type variable for decade, and a binary variable for movement.\n",
    "- \"CAMEO_INTL_2015\" combines information on two axes: wealth and life stage. Break up the two-digit codes by their 'tens'-place and 'ones'-place digits into two new ordinal variables (which, for the purposes of this project, is equivalent to just treating them as their raw numeric values).\n",
    "- If you decide to keep or engineer new features around the other mixed-type features, make sure you note your steps in the Discussion section.\n",
    "\n",
    "Be sure to check `Data_Dictionary.md` for the details needed to finish these tasks."
   ]
  },
  {
   "cell_type": "code",
   "execution_count": 153,
   "metadata": {},
   "outputs": [],
   "source": [
    "# Investigate \"PRAEGENDE_JUGENDJAHRE\" and engineer two new variables.\n",
    "# Use generation to seperate 40s - 90s and identity to seperate mainstream and avantgarde\n",
    "\n",
    "'''\n",
    "- 1: 40s - war years (Mainstream, E+W)\n",
    "- 2: 40s - reconstruction years (Avantgarde, E+W)\n",
    "- 3: 50s - economic miracle (Mainstream, E+W)\n",
    "- 4: 50s - milk bar / Individualisation (Avantgarde, E+W)\n",
    "- 5: 60s - economic miracle (Mainstream, E+W)\n",
    "- 6: 60s - generation 68 / student protestors (Avantgarde, W)\n",
    "- 7: 60s - opponents to the building of the Wall (Avantgarde, E)\n",
    "- 8: 70s - family orientation (Mainstream, E+W)\n",
    "- 9: 70s - peace movement (Avantgarde, E+W)\n",
    "- 10: 80s - Generation Golf (Mainstream, W)\n",
    "- 11: 80s - ecological awareness (Avantgarde, W)\n",
    "- 12: 80s - FDJ / communist party youth organisation (Mainstream, E)\n",
    "- 13: 80s - Swords into ploughshares (Avantgarde, E)\n",
    "- 14: 90s - digital media kids (Mainstream, E+W)\n",
    "- 15: 90s - ecological awareness (Avantgarde, E+W)\n",
    "'''\n",
    "\n",
    "# Generation replace dict\n",
    "generation_dict = { 1:1, 2:1,\n",
    "                    3:2, 4:2,\n",
    "                    5:3, 6:3, 7:3,\n",
    "                    8: 4, 9:4,\n",
    "                    10:5, 11:5, 12:5, 13:5,\n",
    "                    14:6, 15:6 }\n",
    "azdias_low['PRAEGENDE_JUGENDJAHRE_GENERATION'] = azdias_low['PRAEGENDE_JUGENDJAHRE'].replace(generation_dict)\n",
    "\n",
    "# Identity replace dict\n",
    "identity_dict = {1: 0, 3: 0, 5: 0, 8: 0, 10: 0, 12: 0, 14: 0,\n",
    "                2: 1, 4: 1, 6: 1, 7: 1, 9: 1, 11: 1, 13: 1, 15: 1}\n",
    "azdias_low['PRAEGENDE_JUGENDJAHRE_IDENTITY'] = azdias_low['PRAEGENDE_JUGENDJAHRE'].replace(identity_dict)\n",
    "\n",
    "# drop PRAEGENDE_JUGENDJAHRE\n",
    "azdias_low.drop('PRAEGENDE_JUGENDJAHRE', axis=1, inplace=True)"
   ]
  },
  {
   "cell_type": "code",
   "execution_count": 154,
   "metadata": {},
   "outputs": [],
   "source": [
    "# Investigate \"CAMEO_INTL_2015\" and engineer two new variables.\n",
    "# use wealth and life_stage to seperate CAMEO_INTL_2015\n",
    "'''\n",
    "- 11: Wealthy Households - Pre-Family Couples & Singles\n",
    "- 12: Wealthy Households - Young Couples With Children\n",
    "- 13: Wealthy Households - Families With School Age Children\n",
    "- 14: Wealthy Households - Older Families &  Mature Couples\n",
    "- 15: Wealthy Households - Elders In Retirement\n",
    "- 21: Prosperous Households - Pre-Family Couples & Singles\n",
    "- 22: Prosperous Households - Young Couples With Children\n",
    "- 23: Prosperous Households - Families With School Age Children\n",
    "- 24: Prosperous Households - Older Families & Mature Couples\n",
    "- 25: Prosperous Households - Elders In Retirement\n",
    "- 31: Comfortable Households - Pre-Family Couples & Singles\n",
    "- 32: Comfortable Households - Young Couples With Children\n",
    "- 33: Comfortable Households - Families With School Age Children\n",
    "- 34: Comfortable Households - Older Families & Mature Couples\n",
    "- 35: Comfortable Households - Elders In Retirement\n",
    "- 41: Less Affluent Households - Pre-Family Couples & Singles\n",
    "- 42: Less Affluent Households - Young Couples With Children\n",
    "- 43: Less Affluent Households - Families With School Age Children\n",
    "- 44: Less Affluent Households - Older Families & Mature Couples\n",
    "- 45: Less Affluent Households - Elders In Retirement\n",
    "- 51: Poorer Households - Pre-Family Couples & Singles\n",
    "- 52: Poorer Households - Young Couples With Children\n",
    "- 53: Poorer Households - Families With School Age Children\n",
    "- 54: Poorer Households - Older Families & Mature Couples\n",
    "- 55: Poorer Households - Elders In Retirement\n",
    "'''\n",
    "# create replace dict\n",
    "wealth_dict = {}\n",
    "lifestage_dict = {}\n",
    "for i in range (1,6):\n",
    "    for j in range(1,6):\n",
    "        key = str(i * 10 + j)\n",
    "        wealth_dict[key] = i\n",
    "        lifestage_dict[key] = j\n",
    "\n",
    "# replace \n",
    "azdias_low['CAMEO_INTL_2015_WEALTH'] = azdias_low['CAMEO_INTL_2015'].replace(wealth_dict)\n",
    "azdias_low['CAMEO_INTL_2015_LIFE_STAGE'] = azdias_low['CAMEO_INTL_2015'].replace(lifestage_dict)\n",
    "\n",
    "# drop CAMEO_INTL_2015\n",
    "azdias_low.drop('CAMEO_INTL_2015', axis=1, inplace=True)"
   ]
  },
  {
   "cell_type": "markdown",
   "metadata": {},
   "source": [
    "#### Discussion 1.2.2: Engineer Mixed-Type Features\n",
    "\n",
    "CAMEO_INTL_2015\n",
    "* CAMEO_INTL_2015_WEALTH & CAMEO_INTL_2015_LIFE_STAGE are created to describe wealth and lifestage information.\n",
    "* The original attribute is dropped.\n",
    "\n",
    "PRAEGENDE_JUGENDJAHRE\n",
    "* PRAEGENDE_JUGENDJAHRE_GENERATION & PRAEGENDE_JUGENDJAHRE_IDENTITY are created to describe generation and identity information.\n",
    "* The original attribute is dropped."
   ]
  },
  {
   "cell_type": "markdown",
   "metadata": {},
   "source": [
    "#### Step 1.2.3: Complete Feature Selection\n",
    "\n",
    "In order to finish this step up, you need to make sure that your data frame now only has the columns that you want to keep. To summarize, the dataframe should consist of the following:\n",
    "- All numeric, interval, and ordinal type columns from the original dataset.\n",
    "- Binary categorical features (all numerically-encoded).\n",
    "- Engineered features from other multi-level categorical features and mixed features.\n",
    "\n",
    "Make sure that for any new columns that you have engineered, that you've excluded the original columns from the final dataset. Otherwise, their values will interfere with the analysis later on the project. For example, you should not keep \"PRAEGENDE_JUGENDJAHRE\", since its values won't be useful for the algorithm: only the values derived from it in the engineered features you created should be retained. As a reminder, your data should only be from **the subset with few or no missing values**."
   ]
  },
  {
   "cell_type": "code",
   "execution_count": 155,
   "metadata": {},
   "outputs": [],
   "source": [
    "# If there are other re-engineering tasks you need to perform, make sure you\n",
    "# take care of them here. (Dealing with missing data will come in step 2.1.)\n",
    "\n"
   ]
  },
  {
   "cell_type": "code",
   "execution_count": 156,
   "metadata": {},
   "outputs": [],
   "source": [
    "# Do whatever you need to in order to ensure that the dataframe only contains\n",
    "# the columns that should be passed to the algorithm functions.\n",
    "\n"
   ]
  },
  {
   "cell_type": "markdown",
   "metadata": {},
   "source": [
    "### Step 1.3: Create a Cleaning Function\n",
    "\n",
    "Even though you've finished cleaning up the general population demographics data, it's important to look ahead to the future and realize that you'll need to perform the same cleaning steps on the customer demographics data. In this substep, complete the function below to execute the main feature selection, encoding, and re-engineering steps you performed above. Then, when it comes to looking at the customer data in Step 3, you can just run this function on that DataFrame to get the trimmed dataset in a single step."
   ]
  },
  {
   "cell_type": "code",
   "execution_count": 200,
   "metadata": {},
   "outputs": [
    {
     "data": {
      "text/plain": [
       "AGER_TYP        685843\n",
       "GEBURTSJAHR     392318\n",
       "TITEL_KZ        889061\n",
       "ALTER_HH        310267\n",
       "KK_KUNDENTYP    584612\n",
       "KBA05_BAUMAX    476524\n",
       "dtype: int64"
      ]
     },
     "execution_count": 200,
     "metadata": {},
     "output_type": "execute_result"
    }
   ],
   "source": [
    "outlier_columns"
   ]
  },
  {
   "cell_type": "code",
   "execution_count": 203,
   "metadata": {},
   "outputs": [],
   "source": [
    "def clean_data(df):\n",
    "    \"\"\"\n",
    "    Perform feature trimming, re-encoding, and engineering for demographics\n",
    "    data\n",
    "    \n",
    "    INPUT: Demographics DataFrame\n",
    "    OUTPUT: Trimmed and cleaned demographics DataFrame\n",
    "    \"\"\"\n",
    "    \n",
    "    # Put in code here to execute all main cleaning steps:\n",
    "    # convert missing value codes into NaNs, ...\n",
    "    # 1. Replace missing value with nan\n",
    "    replace_dict = {}\n",
    "\n",
    "    # to solve NameError: name 'X' is not defined\n",
    "    globals = {\n",
    "        'X': 999,\n",
    "        'XX' : 999\n",
    "    }\n",
    "\n",
    "    # to solve TypeError\n",
    "    # Reference https://stackoverflow.com/questions/7027312/using-eval-with-undefined-variables\n",
    "    class Reflector(object):\n",
    "        def __getitem__(self, name):\n",
    "            return name\n",
    "\n",
    "    for key, value in zip(feat_info[\"attribute\"], feat_info[\"missing_or_unknown\"]):\n",
    "        if value != \"[]\":\n",
    "            try:\n",
    "                eval(value)\n",
    "            except Exception:\n",
    "                replace_dict[key] = [str(i) for i in eval(value, globals, Reflector())]\n",
    "            else:\n",
    "                replace_dict[key] = eval(value)\n",
    "  \n",
    "    df = df.replace(replace_dict, np.nan)\n",
    "    \n",
    "    # remove selected columns and rows, ...\n",
    "    # 1. Remove columns in outlier_columns\n",
    "    df.drop(outlier_columns.index, axis=1, inplace=True)\n",
    "    \n",
    "    # 2. Remove rows with more than 10 missing values\n",
    "    df[\"missing_in_row\"] = azdias.apply(lambda x: len(x) - x.count(), axis=1)\n",
    "    df[\"missing_lvl\"] = azdias.apply(lambda x: \"Low\" if x[\"missing_in_row\"] < 10 else \"High\", axis=1)\n",
    "\n",
    "    low_temp = df[df[\"missing_lvl\"] == \"Low\"]\n",
    "    df_low = low_temp.drop([\"missing_lvl\", \"missing_in_row\"], axis=1)\n",
    "    \n",
    "    \n",
    "    # select, re-encode, and engineer column values.\n",
    "    # 1. Re-Encode categorical attributes\n",
    "    # 1.1 PRAEGENDE_JUGENDJAHRE\n",
    "\n",
    "    # Generation replace dict\n",
    "    generation_dict = { 1:1, 2:1,\n",
    "                        3:2, 4:2,\n",
    "                        5:3, 6:3, 7:3,\n",
    "                        8: 4, 9:4,\n",
    "                        10:5, 11:5, 12:5, 13:5,\n",
    "                        14:6, 15:6 }\n",
    "    df_low['PRAEGENDE_JUGENDJAHRE_GENERATION'] = df_low['PRAEGENDE_JUGENDJAHRE'].replace(generation_dict)\n",
    "\n",
    "    # Identity replace dict\n",
    "    identity_dict = {1: 0, 3: 0, 5: 0, 8: 0, 10: 0, 12: 0, 14: 0,\n",
    "                2: 1, 4: 1, 6: 1, 7: 1, 9: 1, 11: 1, 13: 1, 15: 1}\n",
    "    df_low['PRAEGENDE_JUGENDJAHRE_IDENTITY'] = df_low['PRAEGENDE_JUGENDJAHRE'].replace(identity_dict)\n",
    "\n",
    "    # drop PRAEGENDE_JUGENDJAHRE\n",
    "    df_low.drop('PRAEGENDE_JUGENDJAHRE', axis=1, inplace=True)\n",
    "\n",
    "    # 1.2 CAMEO_INTL_2015\n",
    "    # create replace dict\n",
    "    wealth_dict = {}\n",
    "    lifestage_dict = {}\n",
    "    for i in range (1,6):\n",
    "        for j in range(1,6):\n",
    "            key = str(i * 10 + j)\n",
    "            wealth_dict[key] = i\n",
    "            lifestage_dict[key] = j\n",
    "\n",
    "    # replace \n",
    "    df_low['CAMEO_INTL_2015_WEALTH'] = df_low['CAMEO_INTL_2015'].replace(wealth_dict)\n",
    "    df_low['CAMEO_INTL_2015_LIFE_STAGE'] = df_low['CAMEO_INTL_2015'].replace(lifestage_dict)\n",
    "\n",
    "    # drop CAMEO_INTL_2015\n",
    "    df_low.drop('CAMEO_INTL_2015', axis=1, inplace=True)\n",
    "    \n",
    "    # 2. Mixed-type values\n",
    "    # 2.1 Binary values\n",
    "    df_low['OST_WEST_KZ'].replace({'W':0, 'O':1}, inplace=True)\n",
    "    \n",
    "    # 2.2 One-hot\n",
    "    # Drop CAMEO_DEU_2015 since it has 45 value which will increase dimension too much for a single attribute\n",
    "    df_low.drop('CAMEO_DEU_2015', axis=1, inplace=True)\n",
    "    df_low = pd.get_dummies(df_low, columns=one_hot, prefix = one_hot)\n",
    "    \n",
    "    \n",
    "    # Return the cleaned dataframe.\n",
    "    return df_low"
   ]
  },
  {
   "cell_type": "markdown",
   "metadata": {},
   "source": [
    "## Step 2: Feature Transformation\n",
    "\n",
    "### Step 2.1: Apply Feature Scaling\n",
    "\n",
    "Before we apply dimensionality reduction techniques to the data, we need to perform feature scaling so that the principal component vectors are not influenced by the natural differences in scale for features. Starting from this part of the project, you'll want to keep an eye on the [API reference page for sklearn](http://scikit-learn.org/stable/modules/classes.html) to help you navigate to all of the classes and functions that you'll need. In this substep, you'll need to check the following:\n",
    "\n",
    "- sklearn requires that data not have missing values in order for its estimators to work properly. So, before applying the scaler to your data, make sure that you've cleaned the DataFrame of the remaining missing values. This can be as simple as just removing all data points with missing data, or applying an [Imputer](http://scikit-learn.org/stable/modules/generated/sklearn.preprocessing.Imputer.html) to replace all missing values. You might also try a more complicated procedure where you temporarily remove missing values in order to compute the scaling parameters before re-introducing those missing values and applying imputation. Think about how much missing data you have and what possible effects each approach might have on your analysis, and justify your decision in the discussion section below.\n",
    "- For the actual scaling function, a [StandardScaler](http://scikit-learn.org/stable/modules/generated/sklearn.preprocessing.StandardScaler.html) instance is suggested, scaling each feature to mean 0 and standard deviation 1.\n",
    "- For these classes, you can make use of the `.fit_transform()` method to both fit a procedure to the data as well as apply the transformation to the data at the same time. Don't forget to keep the fit sklearn objects handy, since you'll be applying them to the customer demographics data towards the end of the project."
   ]
  },
  {
   "cell_type": "code",
   "execution_count": 171,
   "metadata": {},
   "outputs": [],
   "source": [
    "# If you've not yet cleaned the dataset of all NaN values, then investigate and\n",
    "# do that now.\n",
    "imp = Imputer(missing_values=np.nan, strategy='mean', axis=0)\n",
    "azdias_imp = imp.fit_transform(azdias_low)"
   ]
  },
  {
   "cell_type": "code",
   "execution_count": 172,
   "metadata": {},
   "outputs": [],
   "source": [
    "# Apply feature scaling to the general population demographics data.\n",
    "SS = StandardScaler()\n",
    "azdias_ss = SS.fit_transform(azdias_imp)"
   ]
  },
  {
   "cell_type": "markdown",
   "metadata": {},
   "source": [
    "### Discussion 2.1: Apply Feature Scaling\n",
    "\n",
    "* Data scaled to (0, 1) using StandardScaler\n",
    "* Apply Imputer to replace all missing values."
   ]
  },
  {
   "cell_type": "markdown",
   "metadata": {},
   "source": [
    "### Step 2.2: Perform Dimensionality Reduction\n",
    "\n",
    "On your scaled data, you are now ready to apply dimensionality reduction techniques.\n",
    "\n",
    "- Use sklearn's [PCA](http://scikit-learn.org/stable/modules/generated/sklearn.decomposition.PCA.html) class to apply principal component analysis on the data, thus finding the vectors of maximal variance in the data. To start, you should not set any parameters (so all components are computed) or set a number of components that is at least half the number of features (so there's enough features to see the general trend in variability).\n",
    "- Check out the ratio of variance explained by each principal component as well as the cumulative variance explained. Try plotting the cumulative or sequential values using matplotlib's [`plot()`](https://matplotlib.org/api/_as_gen/matplotlib.pyplot.plot.html) function. Based on what you find, select a value for the number of transformed features you'll retain for the clustering part of the project.\n",
    "- Once you've made a choice for the number of components to keep, make sure you re-fit a PCA instance to perform the decided-on transformation."
   ]
  },
  {
   "cell_type": "code",
   "execution_count": 160,
   "metadata": {},
   "outputs": [
    {
     "data": {
      "text/plain": [
       "PCA(copy=True, iterated_power='auto', n_components=None, random_state=None,\n",
       "  svd_solver='auto', tol=0.0, whiten=False)"
      ]
     },
     "execution_count": 160,
     "metadata": {},
     "output_type": "execute_result"
    }
   ],
   "source": [
    "# Apply PCA to the data.\n",
    "pca = PCA()\n",
    "pca.fit(azdias_train)\n"
   ]
  },
  {
   "cell_type": "code",
   "execution_count": 173,
   "metadata": {},
   "outputs": [
    {
     "data": {
      "image/png": "[encoded data removed]",
      "text/plain": [
       "<Figure size 720x432 with 1 Axes>"
      ]
     },
     "metadata": {},
     "output_type": "display_data"
    }
   ],
   "source": [
    "# Investigate the variance accounted for by each principal component.\n",
    "def screen_plot(pca):\n",
    "    num_components = len(pca.explained_variance_ratio_)\n",
    "    vals = pca.explained_variance_ratio_\n",
    "    ind = np.arange(num_components)\n",
    "    \n",
    "    plt.figure(figsize = (10, 6))\n",
    "    ax = plt.subplot(111)\n",
    "    cumvals = np.cumsum(vals)\n",
    "    ax.bar(ind, vals)\n",
    "    ax.plot(ind, cumvals)\n",
    "    for i in range(num_components):\n",
    "        ax.annotate(r\"%s%%\" % ((str(vals[i]*100)[:4])), (ind[i]+0.2, vals[i]), va=\"bottom\", ha=\"center\", fontsize=12)    \n",
    "    ax.xaxis.set_tick_params(width=0)\n",
    "    ax.yaxis.set_tick_params(width=2, length=12)\n",
    "    \n",
    "    ax.set_xlabel(\"Principal Component\")\n",
    "    ax.set_ylabel(\"Variance Explained(%)\")\n",
    "    plt.title('Explained Variance Per Pricinpal Component')\n",
    "\n",
    "screen_plot(pca)"
   ]
  },
  {
   "cell_type": "code",
   "execution_count": 190,
   "metadata": {},
   "outputs": [],
   "source": [
    "# Re-apply PCA to the data while selecting for number of components to retain.\n",
    "pca = PCA(80)\n",
    "azdias_pca = pca.fit_transform(azdias_ss)"
   ]
  },
  {
   "cell_type": "markdown",
   "metadata": {},
   "source": [
    "### Discussion 2.2: Perform Dimensionality Reduction\n",
    "\n",
    "By looking at pca plot, I decide to retain 80 components as it contains about 80% variance for next step."
   ]
  },
  {
   "cell_type": "markdown",
   "metadata": {},
   "source": [
    "### Step 2.3: Interpret Principal Components\n",
    "\n",
    "Now that we have our transformed principal components, it's a nice idea to check out the weight of each variable on the first few components to see if they can be interpreted in some fashion.\n",
    "\n",
    "As a reminder, each principal component is a unit vector that points in the direction of highest variance (after accounting for the variance captured by earlier principal components). The further a weight is from zero, the more the principal component is in the direction of the corresponding feature. If two features have large weights of the same sign (both positive or both negative), then increases in one tend expect to be associated with increases in the other. To contrast, features with different signs can be expected to show a negative correlation: increases in one variable should result in a decrease in the other.\n",
    "\n",
    "- To investigate the features, you should map each weight to their corresponding feature name, then sort the features according to weight. The most interesting features for each principal component, then, will be those at the beginning and end of the sorted list. Use the data dictionary document to help you understand these most prominent features, their relationships, and what a positive or negative value on the principal component might indicate.\n",
    "- You should investigate and interpret feature associations from the first three principal components in this substep. To help facilitate this, you should write a function that you can call at any time to print the sorted list of feature weights, for the *i*-th principal component. This might come in handy in the next step of the project, when you interpret the tendencies of the discovered clusters."
   ]
  },
  {
   "cell_type": "code",
   "execution_count": 191,
   "metadata": {},
   "outputs": [
    {
     "name": "stdout",
     "output_type": "stream",
     "text": [
      "LP_STATUS_GROB_1.0    0.192440\n",
      "HH_EINKOMMEN_SCORE    0.181579\n",
      "PLZ8_ANTG3            0.180685\n",
      "dtype: float64\n",
      "FINANZ_MINIMALIST   -0.185966\n",
      "KBA05_ANTG1         -0.188343\n",
      "MOBI_REGIO          -0.201546\n",
      "dtype: float64\n"
     ]
    }
   ],
   "source": [
    "# Map weights for the first principal component to corresponding feature names\n",
    "# and then print the linked values, sorted by weight.\n",
    "# HINT: Try defining a function here or in a new cell that you can reuse in the\n",
    "# other cells.\n",
    "def map_weights(pca_component):\n",
    "    df_mapped = pd.Series(pca_component, index = azdias_low.columns)\n",
    "    df_rank = df_mapped.sort_values(ascending=False)\n",
    "    print(df_rank.head(3))\n",
    "    print(df_rank.tail(3))\n",
    "    \n",
    "map_weights(pca.components_[0])"
   ]
  },
  {
   "cell_type": "code",
   "execution_count": 192,
   "metadata": {},
   "outputs": [
    {
     "name": "stdout",
     "output_type": "stream",
     "text": [
      "ALTERSKATEGORIE_GROB    0.235531\n",
      "FINANZ_VORSORGER        0.220875\n",
      "ZABEOTYP_3              0.199591\n",
      "dtype: float64\n",
      "SEMIO_REL                          -0.217005\n",
      "FINANZ_SPARER                      -0.230228\n",
      "PRAEGENDE_JUGENDJAHRE_GENERATION   -0.239463\n",
      "dtype: float64\n"
     ]
    }
   ],
   "source": [
    "# Map weights for the second principal component to corresponding feature names\n",
    "# and then print the linked values, sorted by weight.\n",
    "\n",
    "map_weights(pca.components_[1])"
   ]
  },
  {
   "cell_type": "code",
   "execution_count": 193,
   "metadata": {},
   "outputs": [
    {
     "name": "stdout",
     "output_type": "stream",
     "text": [
      "SEMIO_VERT    0.317034\n",
      "SEMIO_FAM     0.256956\n",
      "SEMIO_SOZ     0.255865\n",
      "dtype: float64\n",
      "SEMIO_DOM    -0.276841\n",
      "SEMIO_KAEM   -0.309852\n",
      "ANREDE_KZ    -0.341346\n",
      "dtype: float64\n"
     ]
    }
   ],
   "source": [
    "# Map weights for the third principal component to corresponding feature names\n",
    "# and then print the linked values, sorted by weight.\n",
    "\n",
    "map_weights(pca.components_[2])"
   ]
  },
  {
   "cell_type": "markdown",
   "metadata": {},
   "source": [
    "### Discussion 2.3: Interpret Principal Components\n",
    "\n",
    "* First principal component is about personal & familiy income based on feature LP_STATUS_GROB,HH_EINKOMMEN_SCORE\n",
    "* Second principal component is about age and financial typology based on feature ALTERSKATEGORIE_GROB, FINANZ_VORSORGER\n",
    "* Third principal component is about personality typology and gender based SEMIO series feature and ANREDE_KZ"
   ]
  },
  {
   "cell_type": "markdown",
   "metadata": {},
   "source": [
    "## Step 3: Clustering\n",
    "\n",
    "### Step 3.1: Apply Clustering to General Population\n",
    "\n",
    "You've assessed and cleaned the demographics data, then scaled and transformed them. Now, it's time to see how the data clusters in the principal components space. In this substep, you will apply k-means clustering to the dataset and use the average within-cluster distances from each point to their assigned cluster's centroid to decide on a number of clusters to keep.\n",
    "\n",
    "- Use sklearn's [KMeans](http://scikit-learn.org/stable/modules/generated/sklearn.cluster.KMeans.html#sklearn.cluster.KMeans) class to perform k-means clustering on the PCA-transformed data.\n",
    "- Then, compute the average difference from each point to its assigned cluster's center. **Hint**: The KMeans object's `.score()` method might be useful here, but note that in sklearn, scores tend to be defined so that larger is better. Try applying it to a small, toy dataset, or use an internet search to help your understanding.\n",
    "- Perform the above two steps for a number of different cluster counts. You can then see how the average distance decreases with an increasing number of clusters. However, each additional cluster provides a smaller net benefit. Use this fact to select a final number of clusters in which to group the data. **Warning**: because of the large size of the dataset, it can take a long time for the algorithm to resolve. The more clusters to fit, the longer the algorithm will take. You should test for cluster counts through at least 10 clusters to get the full picture, but you shouldn't need to test for a number of clusters above about 30.\n",
    "- Once you've selected a final number of clusters to use, re-fit a KMeans instance to perform the clustering operation. Make sure that you also obtain the cluster assignments for the general demographics data, since you'll be using them in the final Step 3.3."
   ]
  },
  {
   "cell_type": "code",
   "execution_count": 194,
   "metadata": {},
   "outputs": [],
   "source": [
    "# Over a number of different cluster counts...\n",
    "def get_kmeans_score(data, center):\n",
    "\n",
    "    # run k-means clustering on the data and...\n",
    "    kmeans = KMeans(n_clusters=center)\n",
    "    model = kmeans.fit(data)\n",
    "    # compute the average within-cluster distances.\n",
    "    score = np.abs(model.score(data))\n",
    "    \n",
    "    return score"
   ]
  },
  {
   "cell_type": "code",
   "execution_count": 195,
   "metadata": {},
   "outputs": [
    {
     "data": {
      "text/plain": [
       "Text(0.5,1,'SSE vs K')"
      ]
     },
     "execution_count": 195,
     "metadata": {},
     "output_type": "execute_result"
    },
    {
     "data": {
      "image/png": "[encoded data removed]",
      "text/plain": [
       "<Figure size 432x288 with 1 Axes>"
      ]
     },
     "metadata": {},
     "output_type": "display_data"
    }
   ],
   "source": [
    "# Investigate the change in within-cluster distance across number of clusters.\n",
    "# HINT: Use matplotlib's plot function to visualize this relationship.\n",
    "\n",
    "scores = []\n",
    "centers = list(range(3, 30, 3))\n",
    "\n",
    "for center in centers:\n",
    "    scores.append(get_kmeans_score(azdias_pca, center))\n",
    "    \n",
    "plt.plot(centers, scores, linestyle='--', marker='o', color='b')\n",
    "plt.xlabel('K')\n",
    "plt.ylabel('SSE')\n",
    "plt.title('SSE vs K')"
   ]
  },
  {
   "cell_type": "code",
   "execution_count": 197,
   "metadata": {},
   "outputs": [],
   "source": [
    "# Re-fit the k-means model with the selected number of clusters and obtain\n",
    "# cluster predictions for the general population demographics data.\n",
    "kmeans = KMeans(n_clusters=15)\n",
    "model = kmeans.fit(azdias_pca)\n",
    "azdias_labels = model.predict(azdias_pca)\n"
   ]
  },
  {
   "cell_type": "markdown",
   "metadata": {},
   "source": [
    "### Discussion 3.1: Apply Clustering to General Population\n",
    "\n",
    "I decide to choose 15 clusters. Reason being after 15 clusters, margin gain starts to decrease. "
   ]
  },
  {
   "cell_type": "markdown",
   "metadata": {},
   "source": [
    "### Step 3.2: Apply All Steps to the Customer Data\n",
    "\n",
    "Now that you have clusters and cluster centers for the general population, it's time to see how the customer data maps on to those clusters. Take care to not confuse this for re-fitting all of the models to the customer data. Instead, you're going to use the fits from the general population to clean, transform, and cluster the customer data. In the last step of the project, you will interpret how the general population fits apply to the customer data.\n",
    "\n",
    "- Don't forget when loading in the customers data, that it is semicolon (`;`) delimited.\n",
    "- Apply the same feature wrangling, selection, and engineering steps to the customer demographics using the `clean_data()` function you created earlier. (You can assume that the customer demographics data has similar meaning behind missing data patterns as the general demographics data.)\n",
    "- Use the sklearn objects from the general demographics data, and apply their transformations to the customers data. That is, you should not be using a `.fit()` or `.fit_transform()` method to re-fit the old objects, nor should you be creating new sklearn objects! Carry the data through the feature scaling, PCA, and clustering steps, obtaining cluster assignments for all of the data in the customer demographics data."
   ]
  },
  {
   "cell_type": "code",
   "execution_count": 198,
   "metadata": {},
   "outputs": [],
   "source": [
    "# Load in the customer demographics data.\n",
    "customers = pd.read_csv(\"Udacity_CUSTOMERS_Subset.csv\", sep = \";\")"
   ]
  },
  {
   "cell_type": "code",
   "execution_count": 213,
   "metadata": {},
   "outputs": [
    {
     "data": {
      "text/plain": [
       "Index(['ALTERSKATEGORIE_GROB', 'ANREDE_KZ', 'FINANZ_MINIMALIST',\n",
       "       'FINANZ_SPARER', 'FINANZ_VORSORGER', 'FINANZ_ANLEGER',\n",
       "       'FINANZ_UNAUFFAELLIGER', 'FINANZ_HAUSBAUER', 'GREEN_AVANTGARDE',\n",
       "       'HEALTH_TYP',\n",
       "       ...\n",
       "       'GEBAEUDETYP_8.0', 'CAMEO_DEUG_2015_1', 'CAMEO_DEUG_2015_2',\n",
       "       'CAMEO_DEUG_2015_3', 'CAMEO_DEUG_2015_4', 'CAMEO_DEUG_2015_5',\n",
       "       'CAMEO_DEUG_2015_6', 'CAMEO_DEUG_2015_7', 'CAMEO_DEUG_2015_8',\n",
       "       'CAMEO_DEUG_2015_9'],\n",
       "      dtype='object', length=151)"
      ]
     },
     "execution_count": 213,
     "metadata": {},
     "output_type": "execute_result"
    }
   ],
   "source": [
    "customers_low = clean_data(customers)"
   ]
  },
  {
   "cell_type": "code",
   "execution_count": 223,
   "metadata": {},
   "outputs": [
    {
     "data": {
      "text/plain": [
       "Index(['GEBAEUDETYP_5.0'], dtype='object')"
      ]
     },
     "execution_count": 223,
     "metadata": {},
     "output_type": "execute_result"
    }
   ],
   "source": [
    "azdias_low.columns.difference(customers_low.columns)"
   ]
  },
  {
   "cell_type": "code",
   "execution_count": 226,
   "metadata": {},
   "outputs": [],
   "source": [
    "# Apply preprocessing, feature transformation, and clustering from the general\n",
    "# demographics onto the customer data, obtaining cluster predictions for the\n",
    "# customer demographics data.\n",
    "\n",
    "# 1. Preprocessing\n",
    "customers_low = clean_data(customers)\n",
    "# GEBAEUDETYP_5.0 is missing in customer data\n",
    "# insert this column with 0 value\n",
    "customers_low[\"GEBAEUDETYP_5.0\"] = 0\n",
    "\n",
    "# 2. Feature transformation\n",
    "customers_imp = imp.transform(customers_low)\n",
    "customers_ss = SS.transform(customers_imp)\n",
    "customers_pca = pca.transform(customers_ss)\n",
    "customers_labels = model.predict(customers_pca)"
   ]
  },
  {
   "cell_type": "markdown",
   "metadata": {},
   "source": [
    "### Step 3.3: Compare Customer Data to Demographics Data\n",
    "\n",
    "At this point, you have clustered data based on demographics of the general population of Germany, and seen how the customer data for a mail-order sales company maps onto those demographic clusters. In this final substep, you will compare the two cluster distributions to see where the strongest customer base for the company is.\n",
    "\n",
    "Consider the proportion of persons in each cluster for the general population, and the proportions for the customers. If we think the company's customer base to be universal, then the cluster assignment proportions should be fairly similar between the two. If there are only particular segments of the population that are interested in the company's products, then we should see a mismatch from one to the other. If there is a higher proportion of persons in a cluster for the customer data compared to the general population (e.g. 5% of persons are assigned to a cluster for the general population, but 15% of the customer data is closest to that cluster's centroid) then that suggests the people in that cluster to be a target audience for the company. On the other hand, the proportion of the data in a cluster being larger in the general population than the customer data (e.g. only 2% of customers closest to a population centroid that captures 6% of the data) suggests that group of persons to be outside of the target demographics.\n",
    "\n",
    "Take a look at the following points in this step:\n",
    "\n",
    "- Compute the proportion of data points in each cluster for the general population and the customer data. Visualizations will be useful here: both for the individual dataset proportions, but also to visualize the ratios in cluster representation between groups. Seaborn's [`countplot()`](https://seaborn.pydata.org/generated/seaborn.countplot.html) or [`barplot()`](https://seaborn.pydata.org/generated/seaborn.barplot.html) function could be handy.\n",
    "  - Recall the analysis you performed in step 1.1.3 of the project, where you separated out certain data points from the dataset if they had more than a specified threshold of missing values. If you found that this group was qualitatively different from the main bulk of the data, you should treat this as an additional data cluster in this analysis. Make sure that you account for the number of data points in this subset, for both the general population and customer datasets, when making your computations!\n",
    "- Which cluster or clusters are overrepresented in the customer dataset compared to the general population? Select at least one such cluster and infer what kind of people might be represented by that cluster. Use the principal component interpretations from step 2.3 or look at additional components to help you make this inference. Alternatively, you can use the `.inverse_transform()` method of the PCA and StandardScaler objects to transform centroids back to the original data space and interpret the retrieved values directly.\n",
    "- Perform a similar investigation for the underrepresented clusters. Which cluster or clusters are underrepresented in the customer dataset compared to the general population, and what kinds of people are typified by these clusters?"
   ]
  },
  {
   "cell_type": "code",
   "execution_count": 229,
   "metadata": {},
   "outputs": [
    {
     "data": {
      "image/png": "[encoded data removed]",
      "text/plain": [
       "<Figure size 1440x720 with 1 Axes>"
      ]
     },
     "metadata": {},
     "output_type": "display_data"
    }
   ],
   "source": [
    "# Compare the proportion of data in each cluster for the customer data to the\n",
    "# proportion of data in each cluster for the general population.\n",
    "general_prop = []\n",
    "customers_prop = []\n",
    "x_label = [i+1 for i in range(15)]\n",
    "for i in range(15):\n",
    "    general_prop.append((labels == i).sum() / len(labels))\n",
    "    customers_prop.append((customers_labels == i).sum() / len(customers_labels))\n",
    "    \n",
    "fig, ax = plt.subplots()\n",
    "df = pd.DataFrame({'Cluster' : x_label, 'General' : general_prop, 'Customer' : customers_prop})\n",
    "df.plot(x='Cluster', y=['General','Customer'], kind='bar', figsize=(20, 10), ax=ax)\n",
    "plt.ylabel('proportion of data in each cluster')\n",
    "ax.grid()\n",
    "plt.show()\n"
   ]
  },
  {
   "cell_type": "code",
   "execution_count": 230,
   "metadata": {},
   "outputs": [
    {
     "data": {
      "text/html": [
       "<div>\n",
       "<style scoped>\n",
       "    .dataframe tbody tr th:only-of-type {\n",
       "        vertical-align: middle;\n",
       "    }\n",
       "\n",
       "    .dataframe tbody tr th {\n",
       "        vertical-align: top;\n",
       "    }\n",
       "\n",
       "    .dataframe thead th {\n",
       "        text-align: right;\n",
       "    }\n",
       "</style>\n",
       "<table border=\"1\" class=\"dataframe\">\n",
       "  <thead>\n",
       "    <tr style=\"text-align: right;\">\n",
       "      <th></th>\n",
       "      <th>ALTERSKATEGORIE_GROB</th>\n",
       "      <th>ANREDE_KZ</th>\n",
       "      <th>FINANZ_MINIMALIST</th>\n",
       "      <th>FINANZ_SPARER</th>\n",
       "      <th>FINANZ_VORSORGER</th>\n",
       "      <th>FINANZ_ANLEGER</th>\n",
       "      <th>FINANZ_UNAUFFAELLIGER</th>\n",
       "      <th>FINANZ_HAUSBAUER</th>\n",
       "      <th>GREEN_AVANTGARDE</th>\n",
       "      <th>HEALTH_TYP</th>\n",
       "      <th>...</th>\n",
       "      <th>CAMEO_DEUG_2015_4</th>\n",
       "      <th>CAMEO_DEUG_2015_5</th>\n",
       "      <th>CAMEO_DEUG_2015_6</th>\n",
       "      <th>CAMEO_DEUG_2015_7</th>\n",
       "      <th>CAMEO_DEUG_2015_8</th>\n",
       "      <th>CAMEO_DEUG_2015_9</th>\n",
       "      <th>PRAEGENDE_JUGENDJAHRE_GENERATION</th>\n",
       "      <th>PRAEGENDE_JUGENDJAHRE_IDENTITY</th>\n",
       "      <th>CAMEO_INTL_2015_WEALTH</th>\n",
       "      <th>CAMEO_INTL_2015_LIFE_STAGE</th>\n",
       "    </tr>\n",
       "  </thead>\n",
       "  <tbody>\n",
       "    <tr>\n",
       "      <th>0</th>\n",
       "      <td>1.590385</td>\n",
       "      <td>1.611000</td>\n",
       "      <td>1.953284</td>\n",
       "      <td>4.425485</td>\n",
       "      <td>2.541570</td>\n",
       "      <td>4.994825</td>\n",
       "      <td>4.490585</td>\n",
       "      <td>2.950669</td>\n",
       "      <td>0.501151</td>\n",
       "      <td>2.080947</td>\n",
       "      <td>...</td>\n",
       "      <td>0.228164</td>\n",
       "      <td>0.064234</td>\n",
       "      <td>0.113446</td>\n",
       "      <td>0.042029</td>\n",
       "      <td>0.037903</td>\n",
       "      <td>0.021669</td>\n",
       "      <td>5.841604</td>\n",
       "      <td>0.516918</td>\n",
       "      <td>2.215702</td>\n",
       "      <td>3.264606</td>\n",
       "    </tr>\n",
       "    <tr>\n",
       "      <th>1</th>\n",
       "      <td>3.446031</td>\n",
       "      <td>1.730300</td>\n",
       "      <td>2.958370</td>\n",
       "      <td>1.844905</td>\n",
       "      <td>4.187723</td>\n",
       "      <td>2.907817</td>\n",
       "      <td>1.627326</td>\n",
       "      <td>4.073645</td>\n",
       "      <td>-0.021710</td>\n",
       "      <td>2.145611</td>\n",
       "      <td>...</td>\n",
       "      <td>0.163118</td>\n",
       "      <td>0.067238</td>\n",
       "      <td>0.183538</td>\n",
       "      <td>0.122085</td>\n",
       "      <td>0.160978</td>\n",
       "      <td>0.065770</td>\n",
       "      <td>3.405494</td>\n",
       "      <td>-0.014546</td>\n",
       "      <td>3.260377</td>\n",
       "      <td>3.240237</td>\n",
       "    </tr>\n",
       "    <tr>\n",
       "      <th>2</th>\n",
       "      <td>1.860247</td>\n",
       "      <td>0.948502</td>\n",
       "      <td>1.858307</td>\n",
       "      <td>4.484160</td>\n",
       "      <td>1.945154</td>\n",
       "      <td>3.576821</td>\n",
       "      <td>3.897175</td>\n",
       "      <td>3.549518</td>\n",
       "      <td>0.111253</td>\n",
       "      <td>2.327501</td>\n",
       "      <td>...</td>\n",
       "      <td>0.029795</td>\n",
       "      <td>0.051021</td>\n",
       "      <td>0.121130</td>\n",
       "      <td>0.132051</td>\n",
       "      <td>0.291669</td>\n",
       "      <td>0.316102</td>\n",
       "      <td>5.790858</td>\n",
       "      <td>0.115351</td>\n",
       "      <td>4.283118</td>\n",
       "      <td>2.056811</td>\n",
       "    </tr>\n",
       "    <tr>\n",
       "      <th>3</th>\n",
       "      <td>2.265181</td>\n",
       "      <td>1.508971</td>\n",
       "      <td>2.868276</td>\n",
       "      <td>3.798596</td>\n",
       "      <td>2.109565</td>\n",
       "      <td>3.604843</td>\n",
       "      <td>3.879744</td>\n",
       "      <td>2.400822</td>\n",
       "      <td>0.229335</td>\n",
       "      <td>2.356411</td>\n",
       "      <td>...</td>\n",
       "      <td>0.168395</td>\n",
       "      <td>0.084399</td>\n",
       "      <td>0.111698</td>\n",
       "      <td>0.091327</td>\n",
       "      <td>0.116694</td>\n",
       "      <td>0.090738</td>\n",
       "      <td>5.734439</td>\n",
       "      <td>0.230230</td>\n",
       "      <td>2.891458</td>\n",
       "      <td>2.931559</td>\n",
       "    </tr>\n",
       "    <tr>\n",
       "      <th>4</th>\n",
       "      <td>3.378666</td>\n",
       "      <td>1.503809</td>\n",
       "      <td>4.612017</td>\n",
       "      <td>1.520871</td>\n",
       "      <td>4.366001</td>\n",
       "      <td>1.754633</td>\n",
       "      <td>1.987857</td>\n",
       "      <td>2.132063</td>\n",
       "      <td>1.012583</td>\n",
       "      <td>2.081583</td>\n",
       "      <td>...</td>\n",
       "      <td>0.181790</td>\n",
       "      <td>0.060294</td>\n",
       "      <td>0.103382</td>\n",
       "      <td>0.042076</td>\n",
       "      <td>0.031617</td>\n",
       "      <td>0.010026</td>\n",
       "      <td>3.436935</td>\n",
       "      <td>1.013908</td>\n",
       "      <td>2.046148</td>\n",
       "      <td>3.593837</td>\n",
       "    </tr>\n",
       "    <tr>\n",
       "      <th>5</th>\n",
       "      <td>3.214161</td>\n",
       "      <td>1.052916</td>\n",
       "      <td>3.082038</td>\n",
       "      <td>2.031046</td>\n",
       "      <td>4.211422</td>\n",
       "      <td>1.669007</td>\n",
       "      <td>1.660164</td>\n",
       "      <td>3.636461</td>\n",
       "      <td>-0.013081</td>\n",
       "      <td>2.429081</td>\n",
       "      <td>...</td>\n",
       "      <td>0.030230</td>\n",
       "      <td>0.036455</td>\n",
       "      <td>0.130071</td>\n",
       "      <td>0.125204</td>\n",
       "      <td>0.326268</td>\n",
       "      <td>0.312480</td>\n",
       "      <td>3.537272</td>\n",
       "      <td>-0.006378</td>\n",
       "      <td>4.398973</td>\n",
       "      <td>2.280253</td>\n",
       "    </tr>\n",
       "    <tr>\n",
       "      <th>6</th>\n",
       "      <td>3.523559</td>\n",
       "      <td>1.974086</td>\n",
       "      <td>2.418182</td>\n",
       "      <td>1.915268</td>\n",
       "      <td>4.271928</td>\n",
       "      <td>2.188016</td>\n",
       "      <td>1.674672</td>\n",
       "      <td>4.264570</td>\n",
       "      <td>-0.013683</td>\n",
       "      <td>2.033052</td>\n",
       "      <td>...</td>\n",
       "      <td>0.029096</td>\n",
       "      <td>0.046138</td>\n",
       "      <td>0.149701</td>\n",
       "      <td>0.133310</td>\n",
       "      <td>0.335457</td>\n",
       "      <td>0.249664</td>\n",
       "      <td>3.328693</td>\n",
       "      <td>-0.001707</td>\n",
       "      <td>4.301650</td>\n",
       "      <td>2.607043</td>\n",
       "    </tr>\n",
       "    <tr>\n",
       "      <th>7</th>\n",
       "      <td>2.295283</td>\n",
       "      <td>1.729262</td>\n",
       "      <td>2.405972</td>\n",
       "      <td>3.561787</td>\n",
       "      <td>2.745424</td>\n",
       "      <td>3.856649</td>\n",
       "      <td>3.261929</td>\n",
       "      <td>3.025016</td>\n",
       "      <td>0.156057</td>\n",
       "      <td>2.275557</td>\n",
       "      <td>...</td>\n",
       "      <td>0.141121</td>\n",
       "      <td>0.096892</td>\n",
       "      <td>0.133009</td>\n",
       "      <td>0.093506</td>\n",
       "      <td>0.161342</td>\n",
       "      <td>0.129823</td>\n",
       "      <td>5.372954</td>\n",
       "      <td>0.156976</td>\n",
       "      <td>3.262582</td>\n",
       "      <td>2.798943</td>\n",
       "    </tr>\n",
       "    <tr>\n",
       "      <th>8</th>\n",
       "      <td>3.356167</td>\n",
       "      <td>1.430472</td>\n",
       "      <td>4.563986</td>\n",
       "      <td>1.629946</td>\n",
       "      <td>4.278801</td>\n",
       "      <td>2.334677</td>\n",
       "      <td>1.814579</td>\n",
       "      <td>2.118836</td>\n",
       "      <td>0.016266</td>\n",
       "      <td>2.202027</td>\n",
       "      <td>...</td>\n",
       "      <td>0.231658</td>\n",
       "      <td>0.078483</td>\n",
       "      <td>0.143587</td>\n",
       "      <td>0.072705</td>\n",
       "      <td>0.048130</td>\n",
       "      <td>0.019511</td>\n",
       "      <td>3.435494</td>\n",
       "      <td>0.020834</td>\n",
       "      <td>2.504591</td>\n",
       "      <td>3.285992</td>\n",
       "    </tr>\n",
       "    <tr>\n",
       "      <th>9</th>\n",
       "      <td>1.812500</td>\n",
       "      <td>1.983318</td>\n",
       "      <td>1.085671</td>\n",
       "      <td>4.475457</td>\n",
       "      <td>2.191527</td>\n",
       "      <td>4.384382</td>\n",
       "      <td>3.841924</td>\n",
       "      <td>4.354019</td>\n",
       "      <td>0.037412</td>\n",
       "      <td>2.224904</td>\n",
       "      <td>...</td>\n",
       "      <td>0.034559</td>\n",
       "      <td>0.055559</td>\n",
       "      <td>0.123249</td>\n",
       "      <td>0.135433</td>\n",
       "      <td>0.300680</td>\n",
       "      <td>0.296244</td>\n",
       "      <td>5.568911</td>\n",
       "      <td>0.060637</td>\n",
       "      <td>4.272811</td>\n",
       "      <td>2.121048</td>\n",
       "    </tr>\n",
       "    <tr>\n",
       "      <th>10</th>\n",
       "      <td>3.013735</td>\n",
       "      <td>1.420734</td>\n",
       "      <td>3.843662</td>\n",
       "      <td>2.246443</td>\n",
       "      <td>3.667701</td>\n",
       "      <td>2.492486</td>\n",
       "      <td>2.388052</td>\n",
       "      <td>2.545033</td>\n",
       "      <td>0.452913</td>\n",
       "      <td>2.198686</td>\n",
       "      <td>...</td>\n",
       "      <td>0.159557</td>\n",
       "      <td>0.107014</td>\n",
       "      <td>0.120904</td>\n",
       "      <td>0.075358</td>\n",
       "      <td>0.094271</td>\n",
       "      <td>0.047164</td>\n",
       "      <td>4.059814</td>\n",
       "      <td>0.457968</td>\n",
       "      <td>2.631618</td>\n",
       "      <td>3.204165</td>\n",
       "    </tr>\n",
       "    <tr>\n",
       "      <th>11</th>\n",
       "      <td>1.923108</td>\n",
       "      <td>1.648085</td>\n",
       "      <td>2.108561</td>\n",
       "      <td>4.113001</td>\n",
       "      <td>2.022715</td>\n",
       "      <td>4.289419</td>\n",
       "      <td>3.981215</td>\n",
       "      <td>3.124557</td>\n",
       "      <td>0.024126</td>\n",
       "      <td>2.304707</td>\n",
       "      <td>...</td>\n",
       "      <td>0.251980</td>\n",
       "      <td>0.085920</td>\n",
       "      <td>0.151545</td>\n",
       "      <td>0.091757</td>\n",
       "      <td>0.059056</td>\n",
       "      <td>0.028262</td>\n",
       "      <td>5.650218</td>\n",
       "      <td>0.033551</td>\n",
       "      <td>2.660101</td>\n",
       "      <td>3.136450</td>\n",
       "    </tr>\n",
       "    <tr>\n",
       "      <th>12</th>\n",
       "      <td>3.186222</td>\n",
       "      <td>1.477494</td>\n",
       "      <td>4.449711</td>\n",
       "      <td>1.975101</td>\n",
       "      <td>3.979508</td>\n",
       "      <td>2.765956</td>\n",
       "      <td>1.977109</td>\n",
       "      <td>1.914976</td>\n",
       "      <td>0.007824</td>\n",
       "      <td>2.147984</td>\n",
       "      <td>...</td>\n",
       "      <td>0.258482</td>\n",
       "      <td>0.079421</td>\n",
       "      <td>0.127880</td>\n",
       "      <td>0.064879</td>\n",
       "      <td>0.041594</td>\n",
       "      <td>0.015259</td>\n",
       "      <td>3.968025</td>\n",
       "      <td>0.007879</td>\n",
       "      <td>2.423523</td>\n",
       "      <td>3.219381</td>\n",
       "    </tr>\n",
       "    <tr>\n",
       "      <th>13</th>\n",
       "      <td>3.325743</td>\n",
       "      <td>1.466092</td>\n",
       "      <td>3.339819</td>\n",
       "      <td>1.638113</td>\n",
       "      <td>4.315627</td>\n",
       "      <td>1.418664</td>\n",
       "      <td>2.005297</td>\n",
       "      <td>3.861150</td>\n",
       "      <td>0.446717</td>\n",
       "      <td>2.158421</td>\n",
       "      <td>...</td>\n",
       "      <td>0.073528</td>\n",
       "      <td>0.126690</td>\n",
       "      <td>0.185030</td>\n",
       "      <td>0.130788</td>\n",
       "      <td>0.185225</td>\n",
       "      <td>0.082546</td>\n",
       "      <td>3.441774</td>\n",
       "      <td>0.453756</td>\n",
       "      <td>3.372461</td>\n",
       "      <td>3.029639</td>\n",
       "    </tr>\n",
       "    <tr>\n",
       "      <th>14</th>\n",
       "      <td>2.135245</td>\n",
       "      <td>1.311796</td>\n",
       "      <td>4.106861</td>\n",
       "      <td>3.512874</td>\n",
       "      <td>2.023902</td>\n",
       "      <td>3.351000</td>\n",
       "      <td>4.142520</td>\n",
       "      <td>0.957984</td>\n",
       "      <td>0.547462</td>\n",
       "      <td>2.160766</td>\n",
       "      <td>...</td>\n",
       "      <td>0.227756</td>\n",
       "      <td>0.065452</td>\n",
       "      <td>0.087430</td>\n",
       "      <td>0.046395</td>\n",
       "      <td>0.037992</td>\n",
       "      <td>0.021243</td>\n",
       "      <td>5.612904</td>\n",
       "      <td>0.546458</td>\n",
       "      <td>2.191167</td>\n",
       "      <td>3.371877</td>\n",
       "    </tr>\n",
       "  </tbody>\n",
       "</table>\n",
       "<p>15 rows × 152 columns</p>\n",
       "</div>"
      ],
      "text/plain": [
       "    ALTERSKATEGORIE_GROB  ANREDE_KZ  FINANZ_MINIMALIST  FINANZ_SPARER  \\\n",
       "0               1.590385   1.611000           1.953284       4.425485   \n",
       "1               3.446031   1.730300           2.958370       1.844905   \n",
       "2               1.860247   0.948502           1.858307       4.484160   \n",
       "3               2.265181   1.508971           2.868276       3.798596   \n",
       "4               3.378666   1.503809           4.612017       1.520871   \n",
       "5               3.214161   1.052916           3.082038       2.031046   \n",
       "6               3.523559   1.974086           2.418182       1.915268   \n",
       "7               2.295283   1.729262           2.405972       3.561787   \n",
       "8               3.356167   1.430472           4.563986       1.629946   \n",
       "9               1.812500   1.983318           1.085671       4.475457   \n",
       "10              3.013735   1.420734           3.843662       2.246443   \n",
       "11              1.923108   1.648085           2.108561       4.113001   \n",
       "12              3.186222   1.477494           4.449711       1.975101   \n",
       "13              3.325743   1.466092           3.339819       1.638113   \n",
       "14              2.135245   1.311796           4.106861       3.512874   \n",
       "\n",
       "    FINANZ_VORSORGER  FINANZ_ANLEGER  FINANZ_UNAUFFAELLIGER  FINANZ_HAUSBAUER  \\\n",
       "0           2.541570        4.994825               4.490585          2.950669   \n",
       "1           4.187723        2.907817               1.627326          4.073645   \n",
       "2           1.945154        3.576821               3.897175          3.549518   \n",
       "3           2.109565        3.604843               3.879744          2.400822   \n",
       "4           4.366001        1.754633               1.987857          2.132063   \n",
       "5           4.211422        1.669007               1.660164          3.636461   \n",
       "6           4.271928        2.188016               1.674672          4.264570   \n",
       "7           2.745424        3.856649               3.261929          3.025016   \n",
       "8           4.278801        2.334677               1.814579          2.118836   \n",
       "9           2.191527        4.384382               3.841924          4.354019   \n",
       "10          3.667701        2.492486               2.388052          2.545033   \n",
       "11          2.022715        4.289419               3.981215          3.124557   \n",
       "12          3.979508        2.765956               1.977109          1.914976   \n",
       "13          4.315627        1.418664               2.005297          3.861150   \n",
       "14          2.023902        3.351000               4.142520          0.957984   \n",
       "\n",
       "    GREEN_AVANTGARDE  HEALTH_TYP             ...              \\\n",
       "0           0.501151    2.080947             ...               \n",
       "1          -0.021710    2.145611             ...               \n",
       "2           0.111253    2.327501             ...               \n",
       "3           0.229335    2.356411             ...               \n",
       "4           1.012583    2.081583             ...               \n",
       "5          -0.013081    2.429081             ...               \n",
       "6          -0.013683    2.033052             ...               \n",
       "7           0.156057    2.275557             ...               \n",
       "8           0.016266    2.202027             ...               \n",
       "9           0.037412    2.224904             ...               \n",
       "10          0.452913    2.198686             ...               \n",
       "11          0.024126    2.304707             ...               \n",
       "12          0.007824    2.147984             ...               \n",
       "13          0.446717    2.158421             ...               \n",
       "14          0.547462    2.160766             ...               \n",
       "\n",
       "    CAMEO_DEUG_2015_4  CAMEO_DEUG_2015_5  CAMEO_DEUG_2015_6  \\\n",
       "0            0.228164           0.064234           0.113446   \n",
       "1            0.163118           0.067238           0.183538   \n",
       "2            0.029795           0.051021           0.121130   \n",
       "3            0.168395           0.084399           0.111698   \n",
       "4            0.181790           0.060294           0.103382   \n",
       "5            0.030230           0.036455           0.130071   \n",
       "6            0.029096           0.046138           0.149701   \n",
       "7            0.141121           0.096892           0.133009   \n",
       "8            0.231658           0.078483           0.143587   \n",
       "9            0.034559           0.055559           0.123249   \n",
       "10           0.159557           0.107014           0.120904   \n",
       "11           0.251980           0.085920           0.151545   \n",
       "12           0.258482           0.079421           0.127880   \n",
       "13           0.073528           0.126690           0.185030   \n",
       "14           0.227756           0.065452           0.087430   \n",
       "\n",
       "    CAMEO_DEUG_2015_7  CAMEO_DEUG_2015_8  CAMEO_DEUG_2015_9  \\\n",
       "0            0.042029           0.037903           0.021669   \n",
       "1            0.122085           0.160978           0.065770   \n",
       "2            0.132051           0.291669           0.316102   \n",
       "3            0.091327           0.116694           0.090738   \n",
       "4            0.042076           0.031617           0.010026   \n",
       "5            0.125204           0.326268           0.312480   \n",
       "6            0.133310           0.335457           0.249664   \n",
       "7            0.093506           0.161342           0.129823   \n",
       "8            0.072705           0.048130           0.019511   \n",
       "9            0.135433           0.300680           0.296244   \n",
       "10           0.075358           0.094271           0.047164   \n",
       "11           0.091757           0.059056           0.028262   \n",
       "12           0.064879           0.041594           0.015259   \n",
       "13           0.130788           0.185225           0.082546   \n",
       "14           0.046395           0.037992           0.021243   \n",
       "\n",
       "    PRAEGENDE_JUGENDJAHRE_GENERATION  PRAEGENDE_JUGENDJAHRE_IDENTITY  \\\n",
       "0                           5.841604                        0.516918   \n",
       "1                           3.405494                       -0.014546   \n",
       "2                           5.790858                        0.115351   \n",
       "3                           5.734439                        0.230230   \n",
       "4                           3.436935                        1.013908   \n",
       "5                           3.537272                       -0.006378   \n",
       "6                           3.328693                       -0.001707   \n",
       "7                           5.372954                        0.156976   \n",
       "8                           3.435494                        0.020834   \n",
       "9                           5.568911                        0.060637   \n",
       "10                          4.059814                        0.457968   \n",
       "11                          5.650218                        0.033551   \n",
       "12                          3.968025                        0.007879   \n",
       "13                          3.441774                        0.453756   \n",
       "14                          5.612904                        0.546458   \n",
       "\n",
       "    CAMEO_INTL_2015_WEALTH  CAMEO_INTL_2015_LIFE_STAGE  \n",
       "0                 2.215702                    3.264606  \n",
       "1                 3.260377                    3.240237  \n",
       "2                 4.283118                    2.056811  \n",
       "3                 2.891458                    2.931559  \n",
       "4                 2.046148                    3.593837  \n",
       "5                 4.398973                    2.280253  \n",
       "6                 4.301650                    2.607043  \n",
       "7                 3.262582                    2.798943  \n",
       "8                 2.504591                    3.285992  \n",
       "9                 4.272811                    2.121048  \n",
       "10                2.631618                    3.204165  \n",
       "11                2.660101                    3.136450  \n",
       "12                2.423523                    3.219381  \n",
       "13                3.372461                    3.029639  \n",
       "14                2.191167                    3.371877  \n",
       "\n",
       "[15 rows x 152 columns]"
      ]
     },
     "execution_count": 230,
     "metadata": {},
     "output_type": "execute_result"
    }
   ],
   "source": [
    "# What kinds of people are part of a cluster that is overrepresented in the\n",
    "# customer data compared to the general population?\n",
    "\n",
    "# it looks like cluster 4, 6, 12 is overrepresented\n",
    "clusters = pd.DataFrame(SS.inverse_transform(pca.inverse_transform(kmeans.cluster_centers_)), columns=azdias_low.columns)\n",
    "clusters"
   ]
  },
  {
   "cell_type": "markdown",
   "metadata": {},
   "source": [
    "### Discussion 3.3: Compare Customer Data to Demographics Data\n",
    "\n",
    "The proportion of cluster 4, 6, 12 in customer data is much larger than that in general data.\n",
    "\n",
    "**Cluster 4**\n",
    "46-60 years old, low financial interest, money saver, not financially prepared, probably own a house.\n",
    "\n",
    "**Cluster 6**\n",
    "46-60 years old, most likely a female, not low financial interest, money saver, not financially prepared, maybe dont have a house.\n",
    "\n",
    "**Cluster 12**\n",
    "46-60 years old, not low financial interest, money saver, not financially prepared, probably own a house."
   ]
  },
  {
   "cell_type": "markdown",
   "metadata": {},
   "source": [
    "> Congratulations on making it this far in the project! Before you finish, make sure to check through the entire notebook from top to bottom to make sure that your analysis follows a logical flow and all of your findings are documented in **Discussion** cells. Once you've checked over all of your work, you should export the notebook as an HTML document to submit for evaluation. You can do this from the menu, navigating to **File -> Download as -> HTML (.html)**. You will submit both that document and this notebook for your project submission."
   ]
  },
  {
   "cell_type": "code",
   "execution_count": null,
   "metadata": {},
   "outputs": [],
   "source": []
  }
 ],
 "metadata": {
  "kernelspec": {
   "display_name": "Python [default]",
   "language": "python",
   "name": "python3"
  },
  "language_info": {
   "codemirror_mode": {
    "name": "ipython",
    "version": 3
   },
   "file_extension": ".py",
   "mimetype": "text/x-python",
   "name": "python",
   "nbconvert_exporter": "python",
   "pygments_lexer": "ipython3",
   "version": "3.6.5"
  }
 },
 "nbformat": 4,
 "nbformat_minor": 2
}
